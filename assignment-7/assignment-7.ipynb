{
 "cells": [
  {
   "cell_type": "code",
   "execution_count": null,
   "metadata": {},
   "outputs": [],
   "source": [
    "import math\n",
    "\n",
    "import matplotlib.pyplot as plt\n",
    "from functionLibrary import fwdEuler\n",
    "\n",
    "f = lambda x, y: (y*math.log(y))/x\n",
    "\n",
    "t1, s1 = fwdEuler(f, 2, 7, 0.5, 2.71828)\n",
    "t2, s2 = fwdEuler(f, 2, 7, 0.2, 2.71828)\n",
    "t3, s3 = fwdEuler(f, 2, 7, 0.05, 2.71828)\n",
    "\n",
    "plt.figure(figsize = (12, 8))\n",
    "plt.plot(t1, s1, label='0.5')\n",
    "plt.plot(t2, s2, label = '0.2')\n",
    "plt.plot(t3, s3, label = '0.05')\n",
    "plt.title('Solutions of ODE by Explicit Euler with different step-sizes')\n",
    "plt.xlabel('t')\n",
    "plt.ylabel('f(t)')\n",
    "plt.grid()\n",
    "plt.legend(loc='lower right')\n",
    "plt.show()\n"
   ]
  },
  {
   "cell_type": "code",
   "execution_count": null,
   "metadata": {},
   "outputs": [],
   "source": [
    "import math\n",
    "import matplotlib.pyplot as plt \n",
    "from functionLibrary import bwdEuler\n",
    "\n",
    "\n",
    "t1, s1 = bwdEuler(2, 7, 0.5, 2.71828)\n",
    "t2, s2 = bwdEuler(2, 7, 0.2, 2.71828)\n",
    "t3, s3 = bwdEuler(2, 7, 0.05, 2.71828)\n",
    "\n",
    "plt.figure(figsize = (12, 8))\n",
    "plt.plot(t1, s1, label='0.5')\n",
    "plt.plot(t2, s2, label = '0.2')\n",
    "plt.plot(t3, s3, label = '0.05')\n",
    "plt.title('Solutions of ODE by Explicit Euler with different step-sizes')\n",
    "plt.xlabel('t')\n",
    "plt.ylabel('f(t)')\n",
    "plt.grid()\n",
    "plt.legend(loc='lower right')\n",
    "plt.show()"
   ]
  },
  {
   "cell_type": "code",
   "execution_count": null,
   "metadata": {},
   "outputs": [],
   "source": [
    "f = lambda x, y: (y*math.log(y))/x\n",
    "\n"
   ]
  }
 ],
 "metadata": {
  "interpreter": {
   "hash": "b80c30720d0b029417cdc429f64bd8f9d8c8b1f03a5665ca6a1dfe6f546b1748"
  },
  "kernelspec": {
   "display_name": "Python 3.8.8 64-bit ('base': conda)",
   "language": "python",
   "name": "python3"
  },
  "language_info": {
   "codemirror_mode": {
    "name": "ipython",
    "version": 3
   },
   "file_extension": ".py",
   "mimetype": "text/x-python",
   "name": "python",
   "nbconvert_exporter": "python",
   "pygments_lexer": "ipython3",
   "version": "3.8.8"
  },
  "orig_nbformat": 4
 },
 "nbformat": 4,
 "nbformat_minor": 2
}
