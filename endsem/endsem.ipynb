{
 "cells": [
  {
   "cell_type": "markdown",
   "metadata": {},
   "source": [
    "# Question 1"
   ]
  },
  {
   "cell_type": "code",
   "execution_count": 3,
   "metadata": {},
   "outputs": [
    {
     "name": "stdout",
     "output_type": "stream",
     "text": [
      "From the ideal gas equation, the initial volume is given my:  4.139495798319328\n"
     ]
    },
    {
     "data": {
      "image/png": "[encoded data removed]",
      "text/plain": [
       "<Figure size 432x288 with 1 Axes>"
      ]
     },
     "metadata": {
      "needs_background": "light"
     },
     "output_type": "display_data"
    },
    {
     "name": "stdout",
     "output_type": "stream",
     "text": [
      "i x_i\n",
      "1 3.9306485219979557\n",
      "2 3.9299487764811643\n",
      "3 3.9299487677798317\n",
      "The correct volume using the van-der Walls equation is 3.9299487677798317\n"
     ]
    }
   ],
   "source": [
    "import math\n",
    "import matplotlib.pyplot as plt\n",
    "from functionLibrary import newRaph\n",
    "\n",
    "\n",
    "h = 0.00001 #defining the h that will be used to calculate first derivative of y using first principle\n",
    "\n",
    "\n",
    "\n",
    "y = lambda x: 5.95*x - 5.95*0.05422 + (6.254/x) - (6.254*0.05422/x**2) - 24.63 #defining the function\n",
    "dy = lambda x: (y(x+h)-y(x-h))/(2*h) #defining the first derivative of the function using first principle\n",
    "\n",
    "\n",
    "v_0 = 0.0821*300/5.95 #using ideal gas equation here\n",
    "print(\"From the ideal gas equation, the initial volume is given my: \", v_0)\n",
    "x, n = newRaph(y, dy, v_0, h, 100)\n",
    "print(\"The correct volume using the van-der Walls equation is\", x) #printing the results"
   ]
  },
  {
   "cell_type": "markdown",
   "metadata": {},
   "source": [
    "# Question 2"
   ]
  },
  {
   "cell_type": "code",
   "execution_count": 4,
   "metadata": {},
   "outputs": [
    {
     "name": "stdout",
     "output_type": "stream",
     "text": [
      "The potential at height 1.5 m above the point 1 m away from x = 0 is  1.8728664575240423\n"
     ]
    }
   ],
   "source": [
    "#importing the required librabries and functions\n",
    "\n",
    "import math\n",
    "from functionLibrary import simpson\n",
    "\n",
    "y = lambda x: math.exp(-x**2/16)/(math.sqrt(x**2+(9/4))) #defining the mathematical function to be integrated\n",
    "\n",
    "answer = (simpson(-1, 3, 12, y))\n",
    "\n",
    "print(\"The potential at height 1.5 m above the point 1 m away from x = 0 is \",answer)\n"
   ]
  },
  {
   "cell_type": "markdown",
   "metadata": {},
   "source": [
    "# Question 3"
   ]
  },
  {
   "cell_type": "code",
   "execution_count": 5,
   "metadata": {},
   "outputs": [
    {
     "name": "stdout",
     "output_type": "stream",
     "text": [
      "In part-i, the values of alpha and sigma_0 are: -0.09716764829979369 and 0.4620483117887274\n",
      "The r value is: -0.9231412967039299\n",
      "In part-ii, the values of alpha and sigma_0 are: -0.43849688288816524 and 0.5455160765174949\n",
      "The r value is: -0.964482406736273\n"
     ]
    }
   ],
   "source": [
    "import math\n",
    "from functionLibrary import linear_fitting\n",
    "\n",
    "matrix = open(\"esem_fit1.dat\", \"r+\")\n",
    "x = []\n",
    "y = []\n",
    "\n",
    "for row in matrix:\n",
    "    e1 = row.split()\n",
    "    x.append(float(e1[0]))\n",
    "    y.append(float(e1[1]))\n",
    "\n",
    "\n",
    "#part(i)\n",
    "y1 = []\n",
    "for i in range(len(y)):\n",
    "    y1.append(math.log(y[i]))\n",
    "m, c, r = linear_fitting(x, y1)\n",
    "alpha = m\n",
    "sigma0 = math.exp(c)\n",
    "print(\"In part-i, the values of alpha and sigma_0 are: \" + str(alpha) + ' and ' + str(sigma0))\n",
    "print('The r value is: ' + str(r))\n",
    "#part(ii)\n",
    "x2 = []\n",
    "y2 = []\n",
    "for i in range(len(x)):\n",
    "    x2.append(math.log(x[i]))\n",
    "    y2.append(math.log(y[i]))\n",
    "m,c,r = linear_fitting(x2,y2)\n",
    "alpha = m \n",
    "sigma0 = math.exp(c)\n",
    "print(\"In part-ii, the values of alpha and sigma_0 are: \" + str(alpha) + ' and ' + str(sigma0))\n",
    "print('The r value is: ' + str(r))"
   ]
  },
  {
   "cell_type": "markdown",
   "metadata": {},
   "source": [
    "# Question 4"
   ]
  },
  {
   "cell_type": "markdown",
   "metadata": {},
   "source": [
    "### Not done"
   ]
  },
  {
   "cell_type": "markdown",
   "metadata": {},
   "source": [
    "# Question 5"
   ]
  },
  {
   "cell_type": "code",
   "execution_count": 6,
   "metadata": {},
   "outputs": [
    {
     "name": "stdout",
     "output_type": "stream",
     "text": [
      "x at T= 100  is the 443rd element of the X-values.\n",
      "4.42999999999995\n"
     ]
    },
    {
     "data": {
      "image/png": "[encoded data removed]",
      "text/plain": [
       "<Figure size 432x288 with 1 Axes>"
      ]
     },
     "metadata": {
      "needs_background": "light"
     },
     "output_type": "display_data"
    }
   ],
   "source": [
    "import matplotlib.pyplot as plt\n",
    "from functionLibrary import runge_kutta\n",
    "from functionLibrary import lagrange_interpolation\n",
    "from functionLibrary import shooting_method\n",
    "\n",
    "\n",
    "# def shooting_method(d2ydx2, dydx, x0, y0, xf, yf, z_guess1, z_guess2, step_size, tol=1e-6):\n",
    "# this is func for d2y/dt2 =func\n",
    "def d2ydt2(t, y, z):\n",
    "    return -0.01*(20-y)\n",
    "# z = dy/dt\n",
    "def dydt(t, y, z):\n",
    "    return z\n",
    "\n",
    "# Defining boundary values\n",
    "t_initial = 0\n",
    "t_final = 10\n",
    "y_initial = 40\n",
    "y_final = 200\n",
    "\n",
    "t, y, z = shooting_method(d2ydt2, dydt, t_initial, y_initial, t_final, y_final, 10, 100, step_size=0.01)\n",
    "print(\"x at T= 100  is the 443rd element of the X-values.\") #this can be improved by changing step-size\n",
    "print(t[443])\n",
    "plt.plot(t,y)\n",
    "plt.xlabel(\" $x$\")\n",
    "plt.ylabel(\"Temperature $(T)$\")\n",
    "plt.title(\"Temperature curve of rod\")\n",
    "plt.show()"
   ]
  }
 ],
 "metadata": {
  "interpreter": {
   "hash": "b80c30720d0b029417cdc429f64bd8f9d8c8b1f03a5665ca6a1dfe6f546b1748"
  },
  "kernelspec": {
   "display_name": "Python 3.8.8 64-bit ('base': conda)",
   "language": "python",
   "name": "python3"
  },
  "language_info": {
   "codemirror_mode": {
    "name": "ipython",
    "version": 3
   },
   "file_extension": ".py",
   "mimetype": "text/x-python",
   "name": "python",
   "nbconvert_exporter": "python",
   "pygments_lexer": "ipython3",
   "version": "3.8.8"
  },
  "orig_nbformat": 4
 },
 "nbformat": 4,
 "nbformat_minor": 2
}
