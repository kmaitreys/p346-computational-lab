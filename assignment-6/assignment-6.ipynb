{
 "cells": [
  {
   "cell_type": "markdown",
   "metadata": {},
   "source": [
    "# Question 1"
   ]
  },
  {
   "cell_type": "code",
   "execution_count": null,
   "metadata": {},
   "outputs": [],
   "source": [
    "import math\n",
    "from functionLibrary import midpoint\n",
    "from functionLibrary import trapezoidal\n",
    "from functionLibrary import simpson\n",
    "\n",
    "y = lambda x: math.sqrt(1+(1/x))\n",
    "\n",
    "print(\"N\", end = \"      \")\n",
    "print(\"Midpoint\", end = \"           \")\n",
    "print(\"Trapezoidal\", end = \"            \")\n",
    "print(\"Simpson\")\n",
    "for i in range(1, 4):\n",
    "    print(8*i, end = \"  \")\n",
    "    print(midpoint(1, 4, 8*i, y), end = \"   \")\n",
    "    print(trapezoidal(1, 4, 8*i, y), end = \"    \")\n",
    "    print(simpson(1, 4, 8*i, y))\n",
    "\n",
    "print(\"Actual analytical result: 3.620184280785752\")\n"
   ]
  },
  {
   "cell_type": "markdown",
   "metadata": {},
   "source": [
    "# Question 2"
   ]
  },
  {
   "cell_type": "code",
   "execution_count": 11,
   "metadata": {},
   "outputs": [
    {
     "name": "stdout",
     "output_type": "stream",
     "text": [
      "For the mid-point method, the value of N is 7 and the answer is:  0.643137698010569\n",
      "For the trapezoidal method, the value of N is 10 and the answer is:  0.6444300126935937\n",
      "For the Simpson method, the value of N is 2 and the answer is:  0.6439505508593788\n"
     ]
    }
   ],
   "source": [
    "import math\n",
    "from functionLibrary import midpoint\n",
    "from functionLibrary import trapezoidal\n",
    "from functionLibrary import simpson\n",
    "\n",
    "y = lambda x: x*(math.sqrt(1+x))\n",
    "\n",
    "print(\"For the mid-point method, the value of N is 7 and the answer is:\", end = \"  \")\n",
    "print(midpoint(0, 1, 7, y))\n",
    "print(\"For the trapezoidal method, the value of N is 10 and the answer is:\", end = \"  \")\n",
    "print(trapezoidal(0, 1, 10, y))\n",
    "print(\"For the Simpson method, the value of N is 2 and the answer is:\", end = \"  \")\n",
    "print(simpson(0, 1, 2, y))"
   ]
  },
  {
   "cell_type": "markdown",
   "metadata": {},
   "source": [
    "# Question 3"
   ]
  },
  {
   "cell_type": "code",
   "execution_count": 40,
   "metadata": {},
   "outputs": [
    {
     "name": "stdout",
     "output_type": "stream",
     "text": [
      "[2.652789588554963, 3.834477739796108, 3.190633733685805, 2.3236588216905956, 3.896585309252674, 3.415877206803867, 3.6485111135934307, 2.7517691356715592, 3.1095830713982227, 2.4117622746852363]\n",
      "[7.037292601145609, 14.703219536991869, 10.180143622533821, 5.399390319620527, 15.183377072283758, 11.668217091962187, 13.311633346014776, 7.572233376034601, 9.669506877926404, 5.816597269594905]\n",
      "31.235647995132464\n",
      "100.54161111410846\n"
     ]
    },
    {
     "data": {
      "text/plain": [
       "3.1235647995132467"
      ]
     },
     "execution_count": 40,
     "metadata": {},
     "output_type": "execute_result"
    }
   ],
   "source": [
    "import random\n",
    "import math\n",
    "\n",
    "y = lambda x: 4/(1+(x**2))\n",
    "def monteCarlo(a, b, N, s, y):\n",
    "    vars = []\n",
    "    for i in range(N):\n",
    "        vars.append(random.uniform(a, b))\n",
    "    f = []\n",
    "    f2 = []\n",
    "    for j in range(len(vars)):\n",
    "        f.append(y(vars[j]))\n",
    "    for j in range(len(vars)):\n",
    "        f2.append((y(vars[j]))**2)\n",
    "    sumf = sum(f)\n",
    "    sumf2 = sum(f2)\n",
    "    print(f)\n",
    "    print(f2)\n",
    "    print(sumf)\n",
    "    print(sumf2)\n",
    "    F = ((b-a)/N)*sumf\n",
    "    sigmaf = math.sqrt((1/N)*sumf2 - ((1/N)*sumf)**2)\n",
    "    if abs(sigmaf) < 10**(-12):\n",
    "        return F\n",
    "    else:\n",
    "        N = N + s\n",
    "        monteCarlo(a, b, )\n",
    "\n",
    "monteCarlo(0, 1, 10, 10, y)\n"
   ]
  },
  {
   "cell_type": "code",
   "execution_count": null,
   "metadata": {},
   "outputs": [],
   "source": []
  }
 ],
 "metadata": {
  "interpreter": {
   "hash": "b80c30720d0b029417cdc429f64bd8f9d8c8b1f03a5665ca6a1dfe6f546b1748"
  },
  "kernelspec": {
   "display_name": "Python 3.8.8 64-bit ('base': conda)",
   "name": "python3"
  },
  "language_info": {
   "codemirror_mode": {
    "name": "ipython",
    "version": 3
   },
   "file_extension": ".py",
   "mimetype": "text/x-python",
   "name": "python",
   "nbconvert_exporter": "python",
   "pygments_lexer": "ipython3",
   "version": "3.8.8"
  },
  "orig_nbformat": 4
 },
 "nbformat": 4,
 "nbformat_minor": 2
}
