{
 "cells": [
  {
   "cell_type": "markdown",
   "metadata": {},
   "source": [
    "# Question 1"
   ]
  },
  {
   "cell_type": "code",
   "execution_count": null,
   "metadata": {},
   "outputs": [],
   "source": [
    "#importing the required librabries and functions\n",
    "\n",
    "import math\n",
    "from functionLibrary import midpoint\n",
    "from functionLibrary import trapezoidal\n",
    "from functionLibrary import simpson\n",
    "\n",
    "y = lambda x: math.sqrt(1+(1/x)) #defining the mathematical function to be integrated\n",
    "\n",
    "#printing the results in a tabular format\n",
    "\n",
    "print(\"N\", end = \"      \") \n",
    "print(\"Midpoint\", end = \"           \")\n",
    "print(\"Trapezoidal\", end = \"            \")\n",
    "print(\"Simpson\")\n",
    "for i in range(1, 4):\n",
    "    print(8*i, end = \"     \")\n",
    "    print(midpoint(1, 4, 8*i, y), end = \"      \")\n",
    "    print(trapezoidal(1, 4, 8*i, y), end = \"    \")\n",
    "    print(simpson(1, 4, 8*i, y))\n",
    "\n",
    "print(\"Actual analytical result: 3.620184280785752\") #displaying the actual analytical result found using solving by hand\n"
   ]
  },
  {
   "cell_type": "markdown",
   "metadata": {},
   "source": [
    "# Question 2"
   ]
  },
  {
   "cell_type": "code",
   "execution_count": null,
   "metadata": {},
   "outputs": [],
   "source": [
    "#importing the required librabries and functions\n",
    "\n",
    "import math\n",
    "from functionLibrary import midpoint\n",
    "from functionLibrary import trapezoidal\n",
    "from functionLibrary import simpson\n",
    "\n",
    "y = lambda x: x*(math.sqrt(1+x)) #defining the mathematical function to be integrated\n",
    "\n",
    "\n",
    "#the value of N for each case was found by hand as said in the question using the formulae given in note provided by sir\n",
    "\n",
    "print(\"For the mid-point method, the value of N is 7 and the answer is:\", end = \"  \") \n",
    "print(midpoint(0, 1, 7, y))\n",
    "print(\"For the trapezoidal method, the value of N is 10 and the answer is:\", end = \"  \")\n",
    "print(trapezoidal(0, 1, 10, y))\n",
    "print(\"For the Simpson method, the value of N is 2 and the answer is:\", end = \"  \")\n",
    "print(simpson(0, 1, 2, y))"
   ]
  },
  {
   "cell_type": "markdown",
   "metadata": {},
   "source": [
    "# Question 3"
   ]
  },
  {
   "cell_type": "code",
   "execution_count": 1,
   "metadata": {},
   "outputs": [
    {
     "data": {
      "image/png": "[encoded data removed]",
      "text/plain": [
       "<Figure size 432x288 with 1 Axes>"
      ]
     },
     "metadata": {
      "needs_background": "light"
     },
     "output_type": "display_data"
    },
    {
     "name": "stdout",
     "output_type": "stream",
     "text": [
      "As it can be easily observed, the value of the integral approaches the actual value of π.\n"
     ]
    }
   ],
   "source": [
    "#importing the required librabries and functions\n",
    "\n",
    "import math\n",
    "import matplotlib.pyplot as plt\n",
    "from functionLibrary import monteCarlo\n",
    "\n",
    "y = lambda x: 4/(1+(x**2)) #defining the mathematical function to be integrated\n",
    "\n",
    "\n",
    "\n",
    "monteCarlo(0, 1, 10, 10, 700, y) #700 iterations are were chosen arbitrarily\n",
    "\n",
    "print(\"As it can be easily observed, the value of the integral approaches the actual value of \\u03C0.\")\n"
   ]
  },
  {
   "cell_type": "markdown",
   "metadata": {},
   "source": [
    "# Question 4"
   ]
  },
  {
   "cell_type": "code",
   "execution_count": null,
   "metadata": {},
   "outputs": [],
   "source": [
    "#importing the required librabries and functions\n",
    "\n",
    "import math\n",
    "from functionLibrary import simpson #using simposon here\n",
    "\n",
    "y1 = lambda x: x**3 #defining the integral in numerator\n",
    "y2 = lambda x: x**2 #defining the integral in denominator\n",
    "\n",
    "print(\"Assuming the rod places on X - axis with one end at x = 0.0 m and other at x = 2.0 m, the centre of mass lies at x =\", end = \" \")\n",
    "a = simpson(0, 2, 10, y1)\n",
    "b = simpson(0, 2, 10, y2)\n",
    "print(a/b) "
   ]
  },
  {
   "cell_type": "code",
   "execution_count": 2,
   "metadata": {},
   "outputs": [
    {
     "ename": "ModuleNotFoundError",
     "evalue": "No module named 'matplotlib'",
     "output_type": "error",
     "traceback": [
      "\u001b[1;31m---------------------------------------------------------------------------\u001b[0m",
      "\u001b[1;31mModuleNotFoundError\u001b[0m                       Traceback (most recent call last)",
      "\u001b[1;32m~\\AppData\\Local\\Temp/ipykernel_5564/15219256.py\u001b[0m in \u001b[0;36m<module>\u001b[1;34m\u001b[0m\n\u001b[0;32m      2\u001b[0m \u001b[1;33m\u001b[0m\u001b[0m\n\u001b[0;32m      3\u001b[0m \u001b[1;32mimport\u001b[0m \u001b[0mmath\u001b[0m\u001b[1;33m\u001b[0m\u001b[1;33m\u001b[0m\u001b[0m\n\u001b[1;32m----> 4\u001b[1;33m \u001b[1;32mimport\u001b[0m \u001b[0mmatplotlib\u001b[0m\u001b[1;33m.\u001b[0m\u001b[0mpyplot\u001b[0m \u001b[1;32mas\u001b[0m \u001b[0mplt\u001b[0m\u001b[1;33m\u001b[0m\u001b[1;33m\u001b[0m\u001b[0m\n\u001b[0m\u001b[0;32m      5\u001b[0m \u001b[1;32mfrom\u001b[0m \u001b[0mfunctionLibrary\u001b[0m \u001b[1;32mimport\u001b[0m \u001b[0mmonteCarlo\u001b[0m\u001b[1;33m\u001b[0m\u001b[1;33m\u001b[0m\u001b[0m\n\u001b[0;32m      6\u001b[0m \u001b[1;33m\u001b[0m\u001b[0m\n",
      "\u001b[1;31mModuleNotFoundError\u001b[0m: No module named 'matplotlib'"
     ]
    }
   ],
   "source": [
    "#importing the required librabries and functions\n",
    "\n",
    "import math\n",
    "import matplotlib.pyplot as plt\n",
    "from functionLibrary import monteCarlo\n",
    "\n",
    "y = lambda x: 4/(1+(x**2)) #defining the mathematical function to be integrated\n",
    "\n",
    "\n",
    "\n",
    "monteCarlo(0, 1, 10, 10, 700, y) #700 iterations are were chosen arbitrarily\n",
    "\n",
    "print(\"As it can be easily observed, the value of the integral approaches the actual value of \\u03C0.\")"
   ]
  },
  {
   "cell_type": "code",
   "execution_count": null,
   "metadata": {},
   "outputs": [],
   "source": []
  }
 ],
 "metadata": {
  "interpreter": {
   "hash": "b80c30720d0b029417cdc429f64bd8f9d8c8b1f03a5665ca6a1dfe6f546b1748"
  },
  "kernelspec": {
   "display_name": "Python 3.8.8 64-bit ('base': conda)",
   "name": "python3"
  },
  "language_info": {
   "codemirror_mode": {
    "name": "ipython",
    "version": 3
   },
   "file_extension": ".py",
   "mimetype": "text/x-python",
   "name": "python",
   "nbconvert_exporter": "python",
   "pygments_lexer": "ipython3",
   "version": "3.9.7"
  },
  "orig_nbformat": 4
 },
 "nbformat": 4,
 "nbformat_minor": 2
}
