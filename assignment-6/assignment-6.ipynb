{
 "cells": [
  {
   "cell_type": "markdown",
   "metadata": {},
   "source": [
    "# Question 1"
   ]
  },
  {
   "cell_type": "code",
   "execution_count": 7,
   "metadata": {},
   "outputs": [
    {
     "name": "stdout",
     "output_type": "stream",
     "text": [
      "N      Midpoint           Trapezoidal            Simpson\n",
      "8  3.618313859329873   3.6239569493985613    3.6203301434402912\n",
      "16  3.619709761707181   3.621135404364218    3.620194889352769\n",
      "24  3.619972785533525   3.620607687124767    3.6201864498159724\n",
      "Actual analytical result: 3.620184280785752\n"
     ]
    }
   ],
   "source": [
    "import math\n",
    "from functionLibrary import midpoint\n",
    "from functionLibrary import trapezoidal\n",
    "from functionLibrary import simpson\n",
    "\n",
    "y = lambda x: math.sqrt(1+(1/x))\n",
    "\n",
    "print(\"N\", end = \"      \")\n",
    "print(\"Midpoint\", end = \"           \")\n",
    "print(\"Trapezoidal\", end = \"            \")\n",
    "print(\"Simpson\")\n",
    "for i in range(1, 4):\n",
    "    print(8*i, end = \"  \")\n",
    "    print(midpoint(1, 4, 8*i, y), end = \"   \")\n",
    "    print(trapezoidal(1, 4, 8*i, y), end = \"    \")\n",
    "    print(simpson(1, 4, 8*i, y))\n",
    "\n",
    "print(\"Actual analytical result: 3.620184280785752\")\n"
   ]
  },
  {
   "cell_type": "code",
   "execution_count": null,
   "metadata": {},
   "outputs": [],
   "source": []
  }
 ],
 "metadata": {
  "interpreter": {
   "hash": "b80c30720d0b029417cdc429f64bd8f9d8c8b1f03a5665ca6a1dfe6f546b1748"
  },
  "kernelspec": {
   "display_name": "Python 3.8.8 64-bit ('base': conda)",
   "name": "python3"
  },
  "language_info": {
   "codemirror_mode": {
    "name": "ipython",
    "version": 3
   },
   "file_extension": ".py",
   "mimetype": "text/x-python",
   "name": "python",
   "nbconvert_exporter": "python",
   "pygments_lexer": "ipython3",
   "version": "3.8.8"
  },
  "orig_nbformat": 4
 },
 "nbformat": 4,
 "nbformat_minor": 2
}
