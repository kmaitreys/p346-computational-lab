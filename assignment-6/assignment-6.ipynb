{
 "cells": [
  {
   "cell_type": "code",
   "execution_count": 8,
   "metadata": {},
   "outputs": [
    {
     "name": "stdout",
     "output_type": "stream",
     "text": [
      "3.618313859329873\n",
      "3.619709761707181\n",
      "3.619972785533525\n",
      "3.620184083146582\n"
     ]
    }
   ],
   "source": [
    "import math\n",
    "\n",
    "def midpointInt(a, b, N, y):\n",
    "    h = (b-a)/N\n",
    "    mids = []\n",
    "    for i in range(1, N+1):\n",
    "        mids.append((2*a + (2*i -1)*h)/2)\n",
    "    I = 0\n",
    "    for j in range(len(mids)):\n",
    "        I = I + h*y(mids[j])\n",
    "    print(I)\n",
    "y = lambda x: math.sqrt(1+(1/x))\n",
    "\n",
    "midpointInt(a, b, 8, y)\n",
    "midpointInt(a, b, 16, y)\n",
    "midpointInt(a, b, 24, y)\n",
    "midpointInt(a, b, 786, y)"
   ]
  },
  {
   "cell_type": "code",
   "execution_count": 5,
   "metadata": {},
   "outputs": [
    {
     "name": "stdout",
     "output_type": "stream",
     "text": [
      "1.1547005383792515\n"
     ]
    }
   ],
   "source": [
    "y = lambda x: math.sqrt(1+(1/x))\n",
    "\n",
    "print(y(3))"
   ]
  },
  {
   "cell_type": "code",
   "execution_count": null,
   "metadata": {},
   "outputs": [],
   "source": []
  }
 ],
 "metadata": {
  "interpreter": {
   "hash": "b80c30720d0b029417cdc429f64bd8f9d8c8b1f03a5665ca6a1dfe6f546b1748"
  },
  "kernelspec": {
   "display_name": "Python 3.8.8 64-bit ('base': conda)",
   "name": "python3"
  },
  "language_info": {
   "codemirror_mode": {
    "name": "ipython",
    "version": 3
   },
   "file_extension": ".py",
   "mimetype": "text/x-python",
   "name": "python",
   "nbconvert_exporter": "python",
   "pygments_lexer": "ipython3",
   "version": "3.8.8"
  },
  "orig_nbformat": 4
 },
 "nbformat": 4,
 "nbformat_minor": 2
}
