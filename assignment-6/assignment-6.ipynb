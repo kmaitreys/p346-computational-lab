{
 "cells": [
  {
   "cell_type": "markdown",
   "metadata": {},
   "source": [
    "# Question 1"
   ]
  },
  {
   "cell_type": "code",
   "execution_count": 3,
   "metadata": {},
   "outputs": [
    {
     "name": "stdout",
     "output_type": "stream",
     "text": [
      "N      Midpoint           Trapezoidal            Simpson\n",
      "8     3.618313859329873      3.6239569493985613    3.6203301434402912\n",
      "16     3.619709761707181      3.621135404364218    3.620194889352769\n",
      "24     3.619972785533525      3.620607687124767    3.6201864498159724\n",
      "Actual analytical result: 3.620184280785752\n"
     ]
    }
   ],
   "source": [
    "#importing the required librabries and functions\n",
    "\n",
    "import math\n",
    "from functionLibrary import midpoint\n",
    "from functionLibrary import trapezoidal\n",
    "from functionLibrary import simpson\n",
    "\n",
    "y = lambda x: math.sqrt(1+(1/x)) #defining the mathematical function to be integrated\n",
    "\n",
    "#printing the results in a tabular format\n",
    "\n",
    "print(\"N\", end = \"      \") \n",
    "print(\"Midpoint\", end = \"           \")\n",
    "print(\"Trapezoidal\", end = \"            \")\n",
    "print(\"Simpson\")\n",
    "for i in range(1, 4):\n",
    "    print(8*i, end = \"     \")\n",
    "    print(midpoint(1, 4, 8*i, y), end = \"      \")\n",
    "    print(trapezoidal(1, 4, 8*i, y), end = \"    \")\n",
    "    print(simpson(1, 4, 8*i, y))\n",
    "\n",
    "print(\"Actual analytical result: 3.620184280785752\") #displaying the actual analytical result found using solving by hand\n"
   ]
  },
  {
   "cell_type": "markdown",
   "metadata": {},
   "source": [
    "# Question 2"
   ]
  },
  {
   "cell_type": "code",
   "execution_count": 2,
   "metadata": {},
   "outputs": [
    {
     "name": "stdout",
     "output_type": "stream",
     "text": [
      "For the mid-point method, the value of N is 7 and the answer is:  0.643137698010569\n",
      "For the trapezoidal method, the value of N is 10 and the answer is:  0.6444300126935937\n",
      "For the Simpson method, the value of N is 2 and the answer is:  0.6439505508593788\n"
     ]
    }
   ],
   "source": [
    "#importing the required librabries and functions\n",
    "\n",
    "import math\n",
    "from functionLibrary import midpoint\n",
    "from functionLibrary import trapezoidal\n",
    "from functionLibrary import simpson\n",
    "\n",
    "y = lambda x: x*(math.sqrt(1+x)) #defining the mathematical function to be integrated\n",
    "\n",
    "\n",
    "#the value of N for each case was found by hand as said in the question using the formulae given in note provided by sir\n",
    "\n",
    "print(\"For the mid-point method, the value of N is 7 and the answer is:\", end = \"  \") \n",
    "print(midpoint(0, 1, 7, y))\n",
    "print(\"For the trapezoidal method, the value of N is 10 and the answer is:\", end = \"  \")\n",
    "print(trapezoidal(0, 1, 10, y))\n",
    "print(\"For the Simpson method, the value of N is 2 and the answer is:\", end = \"  \")\n",
    "print(simpson(0, 1, 2, y))"
   ]
  },
  {
   "cell_type": "markdown",
   "metadata": {},
   "source": [
    "# Question 3"
   ]
  },
  {
   "cell_type": "code",
   "execution_count": 9,
   "metadata": {},
   "outputs": [
    {
     "name": "stdout",
     "output_type": "stream",
     "text": [
      "As it can be easily observed, the value of the integral approaches the actual value of π.\n"
     ]
    },
    {
     "data": {
      "image/png": "[encoded data removed]",
      "text/plain": [
       "<Figure size 432x288 with 1 Axes>"
      ]
     },
     "metadata": {
      "needs_background": "light"
     },
     "output_type": "display_data"
    }
   ],
   "source": [
    "#importing the required librabries and functions\n",
    "\n",
    "import math\n",
    "import matplotlib.pyplot as plt\n",
    "from functionLibrary import monteCarlo\n",
    "\n",
    "y = lambda x: 4/(1+(x**2)) #defining the mathematical function to be integrated\n",
    "\n",
    "\n",
    "\n",
    "monteCarlo(0, 1, 10, 10, 700, y) #700 iterations are were chosen arbitrarily\n",
    "\n",
    "print(\"As it can be easily observed, the value of the integral approaches the actual value of \\u03C0.\")\n"
   ]
  },
  {
   "cell_type": "markdown",
   "metadata": {},
   "source": [
    "# Question 4"
   ]
  },
  {
   "cell_type": "code",
   "execution_count": 1,
   "metadata": {},
   "outputs": [
    {
     "name": "stdout",
     "output_type": "stream",
     "text": [
      "Assuming the rod places on X - axis with one end at x = 0.0 m and other at x = 2.0 m, the centre of mass lies at x = 1.5000000000000002\n"
     ]
    }
   ],
   "source": [
    "#importing the required librabries and functions\n",
    "\n",
    "import math\n",
    "from functionLibrary import simpson #using simposon here\n",
    "\n",
    "y1 = lambda x: x**3 #defining the integral in numerator\n",
    "y2 = lambda x: x**2 #defining the integral in denominator\n",
    "\n",
    "print(\"Assuming the rod places on X - axis with one end at x = 0.0 m and other at x = 2.0 m, the centre of mass lies at x =\", end = \" \")\n",
    "a = simpson(0, 2, 10, y1)\n",
    "b = simpson(0, 2, 10, y2)\n",
    "print(a/b) "
   ]
  }
 ],
 "metadata": {
  "interpreter": {
   "hash": "b80c30720d0b029417cdc429f64bd8f9d8c8b1f03a5665ca6a1dfe6f546b1748"
  },
  "kernelspec": {
   "display_name": "Python 3.8.8 64-bit ('base': conda)",
   "name": "python3"
  },
  "language_info": {
   "codemirror_mode": {
    "name": "ipython",
    "version": 3
   },
   "file_extension": ".py",
   "mimetype": "text/x-python",
   "name": "python",
   "nbconvert_exporter": "python",
   "pygments_lexer": "ipython3",
   "version": "3.8.8"
  },
  "orig_nbformat": 4
 },
 "nbformat": 4,
 "nbformat_minor": 2
}
