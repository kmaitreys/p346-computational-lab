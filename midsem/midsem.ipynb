{
 "cells": [
  {
   "cell_type": "markdown",
   "metadata": {},
   "source": [
    "# Question 1"
   ]
  },
  {
   "cell_type": "code",
   "execution_count": 15,
   "metadata": {},
   "outputs": [
    {
     "data": {
      "image/png": "[encoded data removed]",
      "text/plain": [
       "<Figure size 432x288 with 1 Axes>"
      ]
     },
     "metadata": {
      "needs_background": "light"
     },
     "output_type": "display_data"
    },
    {
     "name": "stdout",
     "output_type": "stream",
     "text": [
      "i x_i\n",
      "1 9.166628835241774\n",
      "2 8.360077542515926\n",
      "3 7.589162889621367\n",
      "4 6.86707462434134\n",
      "5 6.214045854042731\n",
      "6 5.661188526380725\n",
      "7 5.252697608834539\n",
      "8 5.03008641018726\n",
      "9 4.9691423601208315\n",
      "10 4.965130682570582\n",
      "11 4.965114232019877\n",
      "12 4.965114231744276\n",
      "The value 4.965114 at 11 iterations.\n",
      "Now using this value of x, we determine the value of b by using the values given in the question.\n",
      "b = hc/kx\n",
      "0.0028990103307382923\n"
     ]
    }
   ],
   "source": [
    "import math\n",
    "import matplotlib.pyplot as plt\n",
    "from functionLibrary import newRaph\n",
    "\n",
    "\n",
    "h = 0.0001 #defining the h that will be used to calculate first derivative of y using first principle\n",
    "x0 = 10 #dummy variable for root, chosen arbitarirly\n",
    "\n",
    "\n",
    "y = lambda x: (x-5)*math.exp(x) + 5 #defining the function\n",
    "dy = lambda x: (y(x+h)-y(x-h))/(2*h) #defining the first derivative of the function using first principle\n",
    "\n",
    "x, n = newRaph(y, dy, x0, e=0.00001, n=100) #e is taken to be 10^(-5) to ensure b has answer accurate to 10^(-4)\n",
    "print(\"The value %f at %d iterations.\" %(x, n)) #printing the results\n",
    "print(\"Now using this value of x, we determine the value of b by using the values given in the question.\")\n",
    "print(\"b = hc/kx\")\n",
    "b = 6.626*10**(-34)*3*10**8/(1.381*10**(-23)*float(x))\n",
    "print(b)"
   ]
  },
  {
   "cell_type": "markdown",
   "metadata": {},
   "source": [
    "# Question 2"
   ]
  },
  {
   "cell_type": "code",
   "execution_count": 1,
   "metadata": {},
   "outputs": [
    {
     "name": "stdout",
     "output_type": "stream",
     "text": [
      "The determinant of the given matrix is: \n",
      "120.0\n",
      "As this value is non-zero, the inverse exists.\n",
      "Now we will implement Gauss-Jordan elimination algorithm to find the inverse.\n",
      "The inverse of the given matrix is: \n",
      "0.00 0.00 0.00 0.20 \n",
      "0.00 0.00 0.25 0.00 \n",
      "0.00 0.33 0.00 0.00 \n",
      "0.50 0.00 0.00 0.00 \n",
      "[[0.0, 0.0, 0.0, 0.2], [0.0, 0.0, 0.25, 0.0], [0.0, 0.33, 0.0, 0.0], [0.5, 0.0, 0.0, 0.0]]\n",
      "[[0.0, 0.0, 0.0, 2.0], [0.0, 0.0, 3.0, 0.0], [0.0, 4.0, 0.0, 0.0], [5.0, 0.0, 0.0, 0.0]]\n",
      "Multiplying the two matrices: \n",
      "1.0 0.0 0.0 0.0 \n",
      "0.0 0.99 0.0 0.0 \n",
      "0.0 0.0 1.0 0.0 \n",
      "0.0 0.0 0.0 1.0 \n",
      "Clearly, above matrix is an identity matrix.\n"
     ]
    }
   ],
   "source": [
    "from functionLibrary import determinant\n",
    "from functionLibrary import inverse\n",
    "from functionLibrary import matrixProduct\n",
    "\n",
    "matrix = open(\"midsem-q2.txt\", \"r+\")\n",
    "\n",
    "M = []\n",
    "for row in matrix:\n",
    "    e1 = row.split()\n",
    "    fe1 = []\n",
    "    for i in range(len(e1)):\n",
    "        fe1.append(float(e1[i]))\n",
    "    M.append(fe1)\n",
    "\n",
    "print(\"The determinant of the given matrix is: \")   \n",
    "\n",
    "determinant(M)\n",
    "\n",
    "print(\"As this value is non-zero, the inverse exists.\") \n",
    "print(\"Now we will implement Gauss-Jordan elimination algorithm to find the inverse.\")\n",
    "\n",
    "\n",
    "matrix = open(\"midsem-q2.txt\", \"r+\")\n",
    "\n",
    "M = []\n",
    "for row in matrix:\n",
    "    e1 = row.split()\n",
    "    fe1 = []\n",
    "    for i in range(len(e1)):\n",
    "        fe1.append(float(e1[i]))\n",
    "    M.append(fe1)\n",
    "\n",
    "print(\"The inverse of the given matrix is: \")    \n",
    "\n",
    "inverse(M)\n",
    "\n",
    "\n",
    "#Verification\n",
    "#the construction of R and S was asked to limit the matrix entries to two decimal spaces.\n",
    "#first constructing the matrix with string entries and then converting that into floats is the only viable option in Python\n",
    "#re-constructing the matrix with values upto two decimal places as strings\n",
    "n = len(M)\n",
    "R = []\n",
    "for i in range(len(M)):\n",
    "    r = []\n",
    "    for j in range(n, len(M[0])):\n",
    "        r.append(\"{:.2f}\".format(M[i][j]))\n",
    "    R.append(r)\n",
    "    \n",
    "#defining matrix to have numbers rounded off to 2 decimal places as floats\n",
    "S = []\n",
    "for i in range(len(R)):\n",
    "    s = []\n",
    "    for j in range(len(R[0])):\n",
    "        s.append(float(R[i][j]))\n",
    "    S.append(s)\n",
    "\n",
    "print(S)\n",
    "matrix = open(\"midsem-q2.txt\", \"r+\")\n",
    "\n",
    "Q = []\n",
    "for row in matrix:\n",
    "    e1 = row.split()\n",
    "    fe1 = []\n",
    "    for i in range(len(e1)):\n",
    "        fe1.append(float(e1[i]))\n",
    "    Q.append(fe1)\n",
    "    \n",
    "\n",
    "print(Q)\n",
    "matrixProduct(Q, S) \n",
    "\n",
    "print(\"Clearly, above matrix is an identity matrix.\")\n"
   ]
  },
  {
   "cell_type": "markdown",
   "metadata": {},
   "source": [
    "# Question 3"
   ]
  },
  {
   "cell_type": "code",
   "execution_count": 20,
   "metadata": {},
   "outputs": [
    {
     "name": "stdout",
     "output_type": "stream",
     "text": [
      "\n",
      "The solution using Crout's algorithm:\n",
      "\n",
      "L = [[3.0, 0, 0, 0], [-3.0, -2.0, 0, 0], [6.0, 10.0, -1.0, 0], [-9.0, -16.0, -3.0, -1.0]]\n",
      "\n",
      "U = [[1, -2.3333333333333335, -0.6666666666666666, 0.6666666666666666], [0, 1, 0.5, -1.0], [0, 0, 1, -1.0], [0, 0, 0, 1]]\n",
      "\n",
      "x = [3.000000000000001, 4.0, -6.0, -1.0]\n",
      "\n"
     ]
    }
   ],
   "source": [
    "from functionLibrary import fwdSub\n",
    "from functionLibrary import bwdSub\n",
    "from functionLibrary import crout\n",
    "from functionLibrary import solver\n",
    "\n",
    "matrixA = open(\"midsem-q3-A.txt\", \"r+\") #opening the \n",
    "A = []\n",
    "for row in matrixA:\n",
    "    e1 = row.split()\n",
    "    fe1 = []\n",
    "    for i in range(len(e1)):\n",
    "        fe1.append(float(e1[i]))\n",
    "    A.append(fe1)\n",
    "\n",
    "\n",
    "matrixb = open(\"midsem-q3-b.txt\", \"r+\")\n",
    "b = []\n",
    "for row in matrixb:\n",
    "    e1 = row.split()\n",
    "    for i in range(len(e1)):\n",
    "        b.append(float(e1[i]))\n",
    "\n",
    "\n",
    "print(\"\\n\" + \"The solution using Crout's algorithm:\" + \"\\n\")\n",
    "print( \"x = \" + str(solver(A,b, crout)) + \"\\n\") #the solution format is x = [x1, x2, x3, x4]"
   ]
  },
  {
   "cell_type": "markdown",
   "metadata": {},
   "source": [
    "# Question 4"
   ]
  },
  {
   "cell_type": "markdown",
   "metadata": {},
   "source": [
    "### Using the midpoint method"
   ]
  },
  {
   "cell_type": "code",
   "execution_count": 1,
   "metadata": {},
   "outputs": [
    {
     "name": "stdout",
     "output_type": "stream",
     "text": [
      "Required root is:  0.3705558776855469\n"
     ]
    },
    {
     "data": {
      "image/png": "[encoded data removed]",
      "text/plain": [
       "<Figure size 432x288 with 1 Axes>"
      ]
     },
     "metadata": {
      "needs_background": "light"
     },
     "output_type": "display_data"
    },
    {
     "name": "stdout",
     "output_type": "stream",
     "text": [
      "i x_i\n",
      "1 0.5\n",
      "2 0.25\n",
      "3 0.375\n",
      "4 0.3125\n",
      "5 0.34375\n",
      "6 0.359375\n",
      "7 0.3671875\n",
      "8 0.37109375\n",
      "9 0.369140625\n",
      "10 0.3701171875\n",
      "11 0.37060546875\n",
      "12 0.370361328125\n",
      "13 0.3704833984375\n",
      "14 0.37054443359375\n",
      "15 0.370574951171875\n",
      "16 0.3705596923828125\n",
      "17 0.37055206298828125\n",
      "18 0.3705558776855469\n"
     ]
    }
   ],
   "source": [
    "import math\n",
    "from functionLibrary import rootBisec\n",
    "\n",
    "y = lambda x: 4*math.exp(-x)*math.sin(x) - 1 #defining the function\n",
    "\n",
    "a = float(input(\"Enter first approx: \"))\n",
    "b = float(input(\"Enter second approx: \"))\n",
    "\n",
    "rootBisec(y, a, b, 0.0001) #specifying e=10^(-4) as asked in question\n"
   ]
  },
  {
   "cell_type": "markdown",
   "metadata": {},
   "source": [
    "### Using the regula-falsi method"
   ]
  },
  {
   "cell_type": "code",
   "execution_count": 23,
   "metadata": {},
   "outputs": [
    {
     "name": "stdout",
     "output_type": "stream",
     "text": [
      "Required root is:  0.370562300835524\n"
     ]
    },
    {
     "data": {
      "image/png": "[encoded data removed]",
      "text/plain": [
       "<Figure size 432x288 with 1 Axes>"
      ]
     },
     "metadata": {
      "needs_background": "light"
     },
     "output_type": "display_data"
    },
    {
     "name": "stdout",
     "output_type": "stream",
     "text": [
      "i x_i\n",
      "1 0.8075982052665829\n",
      "2 0.6265494882844935\n",
      "3 0.49985393187801186\n",
      "4 0.42979553644622137\n",
      "5 0.39632542281599925\n",
      "6 0.3814972968627457\n",
      "7 0.3751529050070425\n",
      "8 0.3724793039057679\n",
      "9 0.3713598671047275\n",
      "10 0.3708924286491957\n",
      "11 0.37069746366711326\n",
      "12 0.37061618376611605\n",
      "13 0.37058230528185915\n",
      "14 0.37056818546599873\n",
      "15 0.370562300835524\n"
     ]
    }
   ],
   "source": [
    "import math\n",
    "from functionLibrary import rootRegFalsi\n",
    "\n",
    "y = lambda x: 4*math.exp(-x)*math.sin(x) - 1 #defining the function\n",
    "\n",
    "a = float(input(\"Enter first approx: \"))\n",
    "b = float(input(\"Enter second approx: \"))\n",
    "\n",
    "rootRegFalsi(y, a, b)"
   ]
  }
 ],
 "metadata": {
  "interpreter": {
   "hash": "b80c30720d0b029417cdc429f64bd8f9d8c8b1f03a5665ca6a1dfe6f546b1748"
  },
  "kernelspec": {
   "display_name": "Python 3.8.8 64-bit ('base': conda)",
   "name": "python3"
  },
  "language_info": {
   "codemirror_mode": {
    "name": "ipython",
    "version": 3
   },
   "file_extension": ".py",
   "mimetype": "text/x-python",
   "name": "python",
   "nbconvert_exporter": "python",
   "pygments_lexer": "ipython3",
   "version": "3.8.8"
  },
  "orig_nbformat": 4
 },
 "nbformat": 4,
 "nbformat_minor": 2
}
