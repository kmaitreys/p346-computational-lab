{
 "cells": [
  {
   "cell_type": "markdown",
   "id": "3f739b16",
   "metadata": {},
   "source": [
    "# Question 1"
   ]
  },
  {
   "cell_type": "markdown",
   "id": "5ef8558a",
   "metadata": {
    "heading_collapsed": true
   },
   "source": [
    "### Sum of first N natural numbers"
   ]
  },
  {
   "cell_type": "code",
   "execution_count": 99,
   "id": "5c89afbc",
   "metadata": {
    "hidden": true
   },
   "outputs": [
    {
     "name": "stdout",
     "output_type": "stream",
     "text": [
      "Enter any natural number: 10\n",
      "55 is the sum of first 10 natural numbers.\n"
     ]
    }
   ],
   "source": [
    "from elementaryLibrary import sumN\n",
    "\n",
    "#The following code is just to take care of any exceptional input.\n",
    "\n",
    "N = float(input(\"Enter any natural number: \"))\n",
    "if N <= 0:\n",
    "    print(str(float(N)) + \" is not a natural number!\")\n",
    "elif N.is_integer():\n",
    "    sumN(int(N))\n",
    "else:\n",
    "    print(str(N) + \" is not a natural number!\")"
   ]
  },
  {
   "cell_type": "code",
   "execution_count": 100,
   "id": "47dcc13e",
   "metadata": {
    "hidden": true
   },
   "outputs": [
    {
     "name": "stdout",
     "output_type": "stream",
     "text": [
      "Enter any natural number: 23\n",
      "276 is the sum of first 23 natural numbers.\n"
     ]
    }
   ],
   "source": [
    "from elementaryLibrary import sumN\n",
    "\n",
    "#The following code is just to take care of any exceptional input.\n",
    "\n",
    "N = float(input(\"Enter any natural number: \"))\n",
    "if N <= 0:\n",
    "    print(str(float(N)) + \" is not a natural number!\")\n",
    "elif N.is_integer():\n",
    "    sumN(int(N))\n",
    "else:\n",
    "    print(str(N) + \" is not a natural number!\")"
   ]
  },
  {
   "cell_type": "code",
   "execution_count": 108,
   "id": "6f9830c8",
   "metadata": {
    "hidden": true
   },
   "outputs": [
    {
     "name": "stdout",
     "output_type": "stream",
     "text": [
      "Enter any natural number: 12\n",
      "78 is the sum of first 12 natural numbers.\n"
     ]
    }
   ],
   "source": [
    "from elementaryLibrary import sumN\n",
    "\n",
    "#The following code is just to take care of any exceptional input.\n",
    "\n",
    "N = float(input(\"Enter any natural number: \"))\n",
    "if N <= 0:\n",
    "    print(str(float(N)) + \" is not a natural number!\")\n",
    "elif N.is_integer():\n",
    "    sumN(int(N))\n",
    "else:\n",
    "    print(str(N) + \" is not a natural number!\")"
   ]
  },
  {
   "cell_type": "code",
   "execution_count": 106,
   "id": "8f94b0e9",
   "metadata": {
    "hidden": true
   },
   "outputs": [
    {
     "name": "stdout",
     "output_type": "stream",
     "text": [
      "Enter any natural number: -4\n",
      "-4.0 is not a natural number!\n"
     ]
    }
   ],
   "source": [
    "from elementaryLibrary import sumN\n",
    "\n",
    "#The following code is just to take care of any exceptional input.\n",
    "\n",
    "N = float(input(\"Enter any natural number: \"))\n",
    "if N <= 0:\n",
    "    print(str(float(N)) + \" is not a natural number!\")\n",
    "elif N.is_integer():\n",
    "    sumN(int(N))\n",
    "else:\n",
    "    print(str(N) + \" is not a natural number!\")"
   ]
  },
  {
   "cell_type": "code",
   "execution_count": 105,
   "id": "12204052",
   "metadata": {
    "hidden": true
   },
   "outputs": [
    {
     "name": "stdout",
     "output_type": "stream",
     "text": [
      "Enter any natural number: 3.4\n",
      "3.4 is not a natural number!\n"
     ]
    }
   ],
   "source": [
    "from elementaryLibrary import sumN\n",
    "\n",
    "#The following code is just to take care of any exceptional input.\n",
    "\n",
    "N = float(input(\"Enter any natural number: \"))\n",
    "if N <= 0:\n",
    "    print(str(float(N)) + \" is not a natural number!\")\n",
    "elif N.is_integer():\n",
    "    sumN(int(N))\n",
    "else:\n",
    "    print(str(N) + \" is not a natural number!\")"
   ]
  },
  {
   "cell_type": "markdown",
   "id": "45dc0216",
   "metadata": {
    "heading_collapsed": true
   },
   "source": [
    "### Sum of first N odd numbers"
   ]
  },
  {
   "cell_type": "code",
   "execution_count": 1,
   "id": "34a4ebab",
   "metadata": {
    "hidden": true
   },
   "outputs": [
    {
     "name": "stdout",
     "output_type": "stream",
     "text": [
      "Enter any natural number: 13\n",
      "169 is the sum of first 13 odd numbers.\n"
     ]
    }
   ],
   "source": [
    "from elementaryLibrary import sumOdd\n",
    "\n",
    "#The following code is just to take care of any exceptional input.\n",
    "\n",
    "N = float(input(\"Enter any natural number: \"))\n",
    "if N <= 0:\n",
    "    print(str(float(N)) + \" is not a natural number!\")\n",
    "elif N.is_integer():\n",
    "    sumOdd(int(N))\n",
    "else:\n",
    "    print(str(N) + \" is not a natural number!\")"
   ]
  },
  {
   "cell_type": "code",
   "execution_count": 2,
   "id": "c72f2ef2",
   "metadata": {
    "hidden": true
   },
   "outputs": [
    {
     "name": "stdout",
     "output_type": "stream",
     "text": [
      "Enter any natural number: 125\n",
      "15625 is the sum of first 125 odd numbers.\n"
     ]
    }
   ],
   "source": [
    "from elementaryLibrary import sumOdd\n",
    "\n",
    "#The following code is just to take care of any exceptional input.\n",
    "\n",
    "N = float(input(\"Enter any natural number: \"))\n",
    "if N <= 0:\n",
    "    print(str(float(N)) + \" is not a natural number!\")\n",
    "elif N.is_integer():\n",
    "    sumOdd(int(N))\n",
    "else:\n",
    "    print(str(N) + \" is not a natural number!\")"
   ]
  },
  {
   "cell_type": "code",
   "execution_count": 3,
   "id": "4c9b0c00",
   "metadata": {
    "hidden": true
   },
   "outputs": [
    {
     "name": "stdout",
     "output_type": "stream",
     "text": [
      "Enter any natural number: -8\n",
      "-8.0 is not a natural number!\n"
     ]
    }
   ],
   "source": [
    "from elementaryLibrary import sumOdd\n",
    "\n",
    "#The following code is just to take care of any exceptional input.\n",
    "\n",
    "N = float(input(\"Enter any natural number: \"))\n",
    "if N <= 0:\n",
    "    print(str(float(N)) + \" is not a natural number!\")\n",
    "elif N.is_integer():\n",
    "    sumOdd(int(N))\n",
    "else:\n",
    "    print(str(N) + \" is not a natural number!\")"
   ]
  },
  {
   "cell_type": "code",
   "execution_count": 4,
   "id": "a70c79e1",
   "metadata": {
    "hidden": true
   },
   "outputs": [
    {
     "name": "stdout",
     "output_type": "stream",
     "text": [
      "Enter any natural number: 0\n",
      "0.0 is not a natural number!\n"
     ]
    }
   ],
   "source": [
    "from elementaryLibrary import sumOdd\n",
    "\n",
    "#The following code is just to take care of any exceptional input.\n",
    "\n",
    "N = float(input(\"Enter any natural number: \"))\n",
    "if N <= 0:\n",
    "    print(str(float(N)) + \" is not a natural number!\")\n",
    "elif N.is_integer():\n",
    "    sumOdd(int(N))\n",
    "else:\n",
    "    print(str(N) + \" is not a natural number!\")"
   ]
  },
  {
   "cell_type": "code",
   "execution_count": 5,
   "id": "ba30623d",
   "metadata": {
    "hidden": true
   },
   "outputs": [
    {
     "name": "stdout",
     "output_type": "stream",
     "text": [
      "Enter any natural number: 7.8\n",
      "7.8 is not a natural number!\n"
     ]
    }
   ],
   "source": [
    "from elementaryLibrary import sumOdd\n",
    "\n",
    "#The following code is just to take care of any exceptional input.\n",
    "\n",
    "N = float(input(\"Enter any natural number: \"))\n",
    "if N <= 0:\n",
    "    print(str(float(N)) + \" is not a natural number!\")\n",
    "elif N.is_integer():\n",
    "    sumOdd(int(N))\n",
    "else:\n",
    "    print(str(N) + \" is not a natural number!\")"
   ]
  },
  {
   "cell_type": "markdown",
   "id": "edf28a7a",
   "metadata": {
    "heading_collapsed": true
   },
   "source": [
    "# Question 2"
   ]
  },
  {
   "cell_type": "markdown",
   "id": "f6698feb",
   "metadata": {
    "heading_collapsed": true,
    "hidden": true
   },
   "source": [
    "### Arithmetic Progression"
   ]
  },
  {
   "cell_type": "code",
   "execution_count": 42,
   "id": "97531c45",
   "metadata": {
    "hidden": true
   },
   "outputs": [
    {
     "name": "stdout",
     "output_type": "stream",
     "text": [
      "Enter the first term of your arithmetic progression: 13\n",
      "Enter the number of terms you need the summation of: 15\n",
      "352.5 is the sum of first 15 terms of the arithmetic progression with first term 13.0 and common difference 1.5.\n"
     ]
    }
   ],
   "source": [
    "from elementaryLibrary import sumAP\n",
    "\n",
    "a = float(input(\"Enter the first term of your arithmetic progression: \"))\n",
    "n = int(input(\"Enter the number of terms you need the summation of: \"))\n",
    "\n",
    "sumAP(a, 1.5, n)"
   ]
  },
  {
   "cell_type": "code",
   "execution_count": 6,
   "id": "b556680f",
   "metadata": {
    "hidden": true
   },
   "outputs": [
    {
     "name": "stdout",
     "output_type": "stream",
     "text": [
      "Enter the first term of your arithmetic progression: -8\n",
      "Enter the number of terms you need the summation of: 16\n",
      "52.0 is the sum of first 16 terms of the arithmetic progression with first term -8.0 and common difference 1.5.\n"
     ]
    }
   ],
   "source": [
    "from elementaryLibrary import sumAP\n",
    "\n",
    "a = float(input(\"Enter the first term of your arithmetic progression: \"))\n",
    "n = int(input(\"Enter the number of terms you need the summation of: \"))\n",
    "\n",
    "sumAP(a, 1.5, n)"
   ]
  },
  {
   "cell_type": "code",
   "execution_count": 7,
   "id": "1d69f58b",
   "metadata": {
    "hidden": true
   },
   "outputs": [
    {
     "name": "stdout",
     "output_type": "stream",
     "text": [
      "Enter the first term of your arithmetic progression: 0\n",
      "Enter the number of terms you need the summation of: 54\n",
      "2146.5 is the sum of first 54 terms of the arithmetic progression with first term 0.0 and common difference 1.5.\n"
     ]
    }
   ],
   "source": [
    "from elementaryLibrary import sumAP\n",
    "\n",
    "a = float(input(\"Enter the first term of your arithmetic progression: \"))\n",
    "n = int(input(\"Enter the number of terms you need the summation of: \"))\n",
    "\n",
    "sumAP(a, 1.5, n)"
   ]
  },
  {
   "cell_type": "code",
   "execution_count": 8,
   "id": "18eff890",
   "metadata": {
    "hidden": true
   },
   "outputs": [
    {
     "name": "stdout",
     "output_type": "stream",
     "text": [
      "Enter the first term of your arithmetic progression: 90\n",
      "Enter the number of terms you need the summation of: 5\n",
      "465.0 is the sum of first 5 terms of the arithmetic progression with first term 90.0 and common difference 1.5.\n"
     ]
    }
   ],
   "source": [
    "from elementaryLibrary import sumAP\n",
    "\n",
    "a = float(input(\"Enter the first term of your arithmetic progression: \"))\n",
    "n = int(input(\"Enter the number of terms you need the summation of: \"))\n",
    "\n",
    "sumAP(a, 1.5, n)"
   ]
  },
  {
   "cell_type": "code",
   "execution_count": 9,
   "id": "cac62df1",
   "metadata": {
    "hidden": true
   },
   "outputs": [
    {
     "name": "stdout",
     "output_type": "stream",
     "text": [
      "Enter the first term of your arithmetic progression: -4.45\n",
      "Enter the number of terms you need the summation of: 15\n",
      "90.74999999999999 is the sum of first 15 terms of the arithmetic progression with first term -4.45 and common difference 1.5.\n"
     ]
    }
   ],
   "source": [
    "from elementaryLibrary import sumAP\n",
    "\n",
    "a = float(input(\"Enter the first term of your arithmetic progression: \"))\n",
    "n = int(input(\"Enter the number of terms you need the summation of: \"))\n",
    "\n",
    "sumAP(a, 1.5, n)"
   ]
  },
  {
   "cell_type": "markdown",
   "id": "ed65be30",
   "metadata": {
    "heading_collapsed": true,
    "hidden": true
   },
   "source": [
    "### Geometric Progression"
   ]
  },
  {
   "cell_type": "code",
   "execution_count": 26,
   "id": "8ff3b6f5",
   "metadata": {
    "hidden": true
   },
   "outputs": [
    {
     "name": "stdout",
     "output_type": "stream",
     "text": [
      "Enter the first term of your geometric progression: 3\n",
      "Enter the number of terms you need the summation of: 13\n",
      "5.999267578125 is the sum of first 13 terms of the geometric progression with first term 3.0 and common ratio 0.5.\n"
     ]
    }
   ],
   "source": [
    "from elementaryLibrary import sumGP\n",
    "\n",
    "a = float(input(\"Enter the first term of your geometric progression: \"))\n",
    "n = int(input(\"Enter the number of terms you need the summation of: \"))\n",
    "\n",
    "sumGP(a, 0.5, n)"
   ]
  },
  {
   "cell_type": "code",
   "execution_count": 10,
   "id": "b4b93cee",
   "metadata": {
    "hidden": true
   },
   "outputs": [
    {
     "name": "stdout",
     "output_type": "stream",
     "text": [
      "Enter the first term of your geometric progression: 0\n",
      "Enter the number of terms you need the summation of: 13\n",
      "0.0 is the sum of first 13 terms of the geometric progression with first term 0.0 and common ratio 0.5.\n"
     ]
    }
   ],
   "source": [
    "from elementaryLibrary import sumGP\n",
    "\n",
    "a = float(input(\"Enter the first term of your geometric progression: \"))\n",
    "n = int(input(\"Enter the number of terms you need the summation of: \"))\n",
    "\n",
    "sumGP(a, 0.5, n)"
   ]
  },
  {
   "cell_type": "code",
   "execution_count": 11,
   "id": "752b7636",
   "metadata": {
    "hidden": true
   },
   "outputs": [
    {
     "name": "stdout",
     "output_type": "stream",
     "text": [
      "Enter the first term of your geometric progression: 7.5\n",
      "Enter the number of terms you need the summation of: 13\n",
      "14.9981689453125 is the sum of first 13 terms of the geometric progression with first term 7.5 and common ratio 0.5.\n"
     ]
    }
   ],
   "source": [
    "from elementaryLibrary import sumGP\n",
    "\n",
    "a = float(input(\"Enter the first term of your geometric progression: \"))\n",
    "n = int(input(\"Enter the number of terms you need the summation of: \"))\n",
    "\n",
    "sumGP(a, 0.5, n)"
   ]
  },
  {
   "cell_type": "code",
   "execution_count": 12,
   "id": "c3ceb480",
   "metadata": {
    "hidden": true
   },
   "outputs": [
    {
     "name": "stdout",
     "output_type": "stream",
     "text": [
      "Enter the first term of your geometric progression: 12\n",
      "Enter the number of terms you need the summation of: 15\n",
      "23.999267578125 is the sum of first 15 terms of the geometric progression with first term 12.0 and common ratio 0.5.\n"
     ]
    }
   ],
   "source": [
    "from elementaryLibrary import sumGP\n",
    "\n",
    "a = float(input(\"Enter the first term of your geometric progression: \"))\n",
    "n = int(input(\"Enter the number of terms you need the summation of: \"))\n",
    "\n",
    "sumGP(a, 0.5, n)"
   ]
  },
  {
   "cell_type": "code",
   "execution_count": 13,
   "id": "a9fa046a",
   "metadata": {
    "hidden": true
   },
   "outputs": [
    {
     "name": "stdout",
     "output_type": "stream",
     "text": [
      "Enter the first term of your geometric progression: 16\n",
      "Enter the number of terms you need the summation of: 4\n",
      "30.0 is the sum of first 4 terms of the geometric progression with first term 16.0 and common ratio 0.5.\n"
     ]
    }
   ],
   "source": [
    "from elementaryLibrary import sumGP\n",
    "\n",
    "a = float(input(\"Enter the first term of your geometric progression: \"))\n",
    "n = int(input(\"Enter the number of terms you need the summation of: \"))\n",
    "\n",
    "sumGP(a, 0.5, n)"
   ]
  },
  {
   "cell_type": "markdown",
   "id": "83b77e62",
   "metadata": {
    "heading_collapsed": true,
    "hidden": true
   },
   "source": [
    "### Harmonic Progression"
   ]
  },
  {
   "cell_type": "code",
   "execution_count": 30,
   "id": "1a8152a8",
   "metadata": {
    "hidden": true
   },
   "outputs": [
    {
     "name": "stdout",
     "output_type": "stream",
     "text": [
      "Enter the first term of your harmonic progression: 6\n",
      "Enter the number of terms you need the summation of: 3\n",
      "0.4111111111111111 is the sum of first 3 terms of the harmonic progression with first term 6.0 and common difference 1.5.\n"
     ]
    }
   ],
   "source": [
    "from elementaryLibrary import sumHP\n",
    "\n",
    "a = float(input(\"Enter the first term of your harmonic progression: \"))\n",
    "n = int(input(\"Enter the number of terms you need the summation of: \"))\n",
    "\n",
    "sumHP(a, 1.5, n)"
   ]
  },
  {
   "cell_type": "code",
   "execution_count": 14,
   "id": "21a26980",
   "metadata": {
    "hidden": true
   },
   "outputs": [
    {
     "name": "stdout",
     "output_type": "stream",
     "text": [
      "Enter the first term of your harmonic progression: 5\n",
      "Enter the number of terms you need the summation of: 10\n",
      "1.0038406865766296 is the sum of first 10 terms of the harmonic progression with first term 5.0 and common difference 1.5.\n"
     ]
    }
   ],
   "source": [
    "from elementaryLibrary import sumHP\n",
    "\n",
    "a = float(input(\"Enter the first term of your harmonic progression: \"))\n",
    "n = int(input(\"Enter the number of terms you need the summation of: \"))\n",
    "\n",
    "sumHP(a, 1.5, n)"
   ]
  },
  {
   "cell_type": "code",
   "execution_count": 15,
   "id": "5ebd3f1c",
   "metadata": {
    "hidden": true
   },
   "outputs": [
    {
     "name": "stdout",
     "output_type": "stream",
     "text": [
      "Enter the first term of your harmonic progression: 0\n",
      "Enter the number of terms you need the summation of: 12\n",
      "A harmonic progression cannot have zero as one of its term!\n"
     ]
    }
   ],
   "source": [
    "from elementaryLibrary import sumHP\n",
    "\n",
    "a = float(input(\"Enter the first term of your harmonic progression: \"))\n",
    "n = int(input(\"Enter the number of terms you need the summation of: \"))\n",
    "\n",
    "sumHP(a, 1.5, n)"
   ]
  },
  {
   "cell_type": "code",
   "execution_count": 16,
   "id": "1edd2205",
   "metadata": {
    "hidden": true
   },
   "outputs": [
    {
     "name": "stdout",
     "output_type": "stream",
     "text": [
      "Enter the first term of your harmonic progression: 15\n",
      "Enter the number of terms you need the summation of: 10\n",
      "0.47918093545028534 is the sum of first 10 terms of the harmonic progression with first term 15.0 and common difference 1.5.\n"
     ]
    }
   ],
   "source": [
    "from elementaryLibrary import sumHP\n",
    "\n",
    "a = float(input(\"Enter the first term of your harmonic progression: \"))\n",
    "n = int(input(\"Enter the number of terms you need the summation of: \"))\n",
    "\n",
    "sumHP(a, 1.5, n)"
   ]
  },
  {
   "cell_type": "code",
   "execution_count": 17,
   "id": "45635434",
   "metadata": {
    "hidden": true
   },
   "outputs": [
    {
     "name": "stdout",
     "output_type": "stream",
     "text": [
      "Enter the first term of your harmonic progression: -4\n",
      "Enter the number of terms you need the summation of: 15\n",
      "2.0855009182368613 is the sum of first 15 terms of the harmonic progression with first term -4.0 and common difference 1.5.\n"
     ]
    }
   ],
   "source": [
    "from elementaryLibrary import sumHP\n",
    "\n",
    "a = float(input(\"Enter the first term of your harmonic progression: \"))\n",
    "n = int(input(\"Enter the number of terms you need the summation of: \"))\n",
    "\n",
    "sumHP(a, 1.5, n)"
   ]
  },
  {
   "cell_type": "markdown",
   "id": "0904478e",
   "metadata": {},
   "source": [
    "# Question 3"
   ]
  },
  {
   "cell_type": "code",
   "execution_count": 48,
   "id": "21a27f6f",
   "metadata": {
    "scrolled": true
   },
   "outputs": [
    {
     "name": "stdout",
     "output_type": "stream",
     "text": [
      "Enter any natural number: 13\n",
      "The factorial of 13 is 6227020800.\n"
     ]
    }
   ],
   "source": [
    "from elementaryLibrary import fact\n",
    "\n",
    "#The following code is just to take care of any exceptional input.\n",
    "\n",
    "N = float(input(\"Enter any natural number: \"))\n",
    "if N < 0:\n",
    "    print(str(float(N)) + \" is not a natural number!\")\n",
    "elif N.is_integer():\n",
    "    result = fact(int(N))\n",
    "    print(\"The factorial of \" + str(int(N)) + \" is {}.\".format(result))\n",
    "else:\n",
    "    print(str(N) + \" is not a natural number!\")"
   ]
  },
  {
   "cell_type": "code",
   "execution_count": 18,
   "id": "06b86c2a",
   "metadata": {},
   "outputs": [
    {
     "name": "stdout",
     "output_type": "stream",
     "text": [
      "Enter any natural number: 0\n",
      "The factorial of 0 is 1.\n"
     ]
    }
   ],
   "source": [
    "from elementaryLibrary import fact\n",
    "\n",
    "#The following code is just to take care of any exceptional input.\n",
    "\n",
    "N = float(input(\"Enter any natural number: \"))\n",
    "if N < 0:\n",
    "    print(str(float(N)) + \" is not a natural number!\")\n",
    "elif N.is_integer():\n",
    "    result = fact(int(N))\n",
    "    print(\"The factorial of \" + str(int(N)) + \" is {}.\".format(result))\n",
    "else:\n",
    "    print(str(N) + \" is not a natural number!\")"
   ]
  },
  {
   "cell_type": "code",
   "execution_count": 19,
   "id": "3390cacd",
   "metadata": {},
   "outputs": [
    {
     "name": "stdout",
     "output_type": "stream",
     "text": [
      "Enter any natural number: 7\n",
      "The factorial of 7 is 5040.\n"
     ]
    }
   ],
   "source": [
    "from elementaryLibrary import fact\n",
    "\n",
    "#The following code is just to take care of any exceptional input.\n",
    "\n",
    "N = float(input(\"Enter any natural number: \"))\n",
    "if N < 0:\n",
    "    print(str(float(N)) + \" is not a natural number!\")\n",
    "elif N.is_integer():\n",
    "    result = fact(int(N))\n",
    "    print(\"The factorial of \" + str(int(N)) + \" is {}.\".format(result))\n",
    "else:\n",
    "    print(str(N) + \" is not a natural number!\")"
   ]
  },
  {
   "cell_type": "code",
   "execution_count": 20,
   "id": "0e34bb4b",
   "metadata": {},
   "outputs": [
    {
     "name": "stdout",
     "output_type": "stream",
     "text": [
      "Enter any natural number: 6.5\n",
      "6.5 is not a natural number!\n"
     ]
    }
   ],
   "source": [
    "from elementaryLibrary import fact\n",
    "\n",
    "#The following code is just to take care of any exceptional input.\n",
    "\n",
    "N = float(input(\"Enter any natural number: \"))\n",
    "if N < 0:\n",
    "    print(str(float(N)) + \" is not a natural number!\")\n",
    "elif N.is_integer():\n",
    "    result = fact(int(N))\n",
    "    print(\"The factorial of \" + str(int(N)) + \" is {}.\".format(result))\n",
    "else:\n",
    "    print(str(N) + \" is not a natural number!\")"
   ]
  },
  {
   "cell_type": "code",
   "execution_count": 21,
   "id": "37e8cbae",
   "metadata": {},
   "outputs": [
    {
     "name": "stdout",
     "output_type": "stream",
     "text": [
      "Enter any natural number: -4\n",
      "-4.0 is not a natural number!\n"
     ]
    }
   ],
   "source": [
    "from elementaryLibrary import fact\n",
    "\n",
    "#The following code is just to take care of any exceptional input.\n",
    "\n",
    "N = float(input(\"Enter any natural number: \"))\n",
    "if N < 0:\n",
    "    print(str(float(N)) + \" is not a natural number!\")\n",
    "elif N.is_integer():\n",
    "    result = fact(int(N))\n",
    "    print(\"The factorial of \" + str(int(N)) + \" is {}.\".format(result))\n",
    "else:\n",
    "    print(str(N) + \" is not a natural number!\")"
   ]
  },
  {
   "cell_type": "markdown",
   "id": "d76467af",
   "metadata": {},
   "source": [
    "# Question 4"
   ]
  },
  {
   "cell_type": "markdown",
   "id": "4c152faf",
   "metadata": {},
   "source": [
    "### $e^{-x}$"
   ]
  },
  {
   "cell_type": "code",
   "execution_count": 4,
   "id": "bcaa5ca2",
   "metadata": {},
   "outputs": [
    {
     "name": "stdout",
     "output_type": "stream",
     "text": [
      "Enter the number whose negative exponential you want to calculate: 1.324\n",
      "The value accurate upto 4 decimal places is 0.26606482750331445.\n",
      "The plot of modulus of error versus iteration is below:\n"
     ]
    },
    {
     "data": {
      "image/png": "[encoded data removed]",
      "text/plain": [
       "<Figure size 432x288 with 1 Axes>"
      ]
     },
     "metadata": {
      "needs_background": "light"
     },
     "output_type": "display_data"
    }
   ],
   "source": [
    "import math\n",
    "from math import exp\n",
    "from elementaryLibrary import fact\n",
    "from matplotlib import pyplot as plt\n",
    "\n",
    "x1 = float(input(\"Enter the number whose negative exponential you want to calculate: \")) #take input\n",
    "\n",
    "#making a list which will contain the value on the X-Axis\n",
    "x = [] \n",
    "for p in range(20):\n",
    "    x.append(p)\n",
    "\n",
    "def mynegexp(x):\n",
    "    myexplist = []\n",
    "    s = 0\n",
    "    for i in range(20):\n",
    "        s = s + ((-1)**i)*(x1)**i/fact(i)\n",
    "        myexplist.append(s) #needed to construct the Y-axis data points\n",
    "    j = 0\n",
    "    while abs(myexplist[j] - exp(-(x1))) >= 10**(-5):\n",
    "        j = j + 1 #this will make sure at least the first 4 decimal places are accurate\n",
    "    print(\"The value accurate upto 4 decimal places is \" + str(myexplist[j]) + \".\")\n",
    "    k = 0\n",
    "    y = []\n",
    "    for k in range(20):\n",
    "        z = abs(myexplist[k] - exp(-(x1))) #constructing Y-axis data points\n",
    "        y.append(z)\n",
    "    print(\"The plot of modulus of error versus iteration is below:\")\n",
    "    plt.plot(x, y) #plotting the error vs iteration graph\n",
    "    plt.show()\n",
    "\n",
    "0mynegexp(x)"
   ]
  },
  {
   "cell_type": "markdown",
   "id": "186a5eec",
   "metadata": {},
   "source": [
    "### $sin x$"
   ]
  },
  {
   "cell_type": "code",
   "execution_count": 27,
   "id": "33313845",
   "metadata": {
    "scrolled": true
   },
   "outputs": [
    {
     "name": "stdout",
     "output_type": "stream",
     "text": [
      "Enter the number whose sine you want to calculate: 3.442\n",
      "The value accurate upto 4 decimal places is -0.29590933493770305.\n",
      "The plot of modulus versus iteration is below: \n"
     ]
    },
    {
     "data": {
      "image/png": "[encoded data removed]",
      "text/plain": [
       "<Figure size 432x288 with 1 Axes>"
      ]
     },
     "metadata": {
      "needs_background": "light"
     },
     "output_type": "display_data"
    }
   ],
   "source": [
    "import math\n",
    "from math import sin\n",
    "from elementaryLibrary import fact\n",
    "from matplotlib import pyplot as plt\n",
    "\n",
    "x2 = float(input(\"Enter the number whose sine you want to calculate: \")) #take input\n",
    "\n",
    "#making a list which will contain the value on the X-Axis\n",
    "x = []\n",
    "for p in range(20):\n",
    "    x.append(p)\n",
    "    \n",
    "def mysin(x):\n",
    "    mysinlist = []\n",
    "    s = 0\n",
    "    for i in range(20):\n",
    "        s = s + ((-1)**i)*(x2)**(2*i + 1)/fact(2*i + 1)\n",
    "        mysinlist.append(s) #needed to construct the Y-axis data points\n",
    "    j = 0\n",
    "    while abs(mysinlist[j] - sin(x2)) >= 10**(-10): #the sine function near boundary inputs like pi/2 can be very unpredictable so a higher negative power takes care of that\n",
    "        j = j + 1 #this will make sure at least the first 4 decimal places are accurate\n",
    "    print(\"The value accurate upto 4 decimal places is \" + str(mysinlist[j]) + \".\")\n",
    "    k = 0\n",
    "    y = []\n",
    "    for k in range(20):\n",
    "        z = abs(mysinlist[k] - sin(x2)) #constructing Y-axis data points\n",
    "        y.append(z)\n",
    "    print(\"The plot of modulus versus iteration is below: \")\n",
    "    plt.plot(x, y) #plotting the error vs iteration graph\n",
    "    plt.show()\n",
    "\n",
    "mysin(x)\n"
   ]
  }
 ],
 "metadata": {
  "kernelspec": {
   "display_name": "Python 3",
   "language": "python",
   "name": "python3"
  },
  "language_info": {
   "codemirror_mode": {
    "name": "ipython",
    "version": 3
   },
   "file_extension": ".py",
   "mimetype": "text/x-python",
   "name": "python",
   "nbconvert_exporter": "python",
   "pygments_lexer": "ipython3",
   "version": "3.8.8"
  }
 },
 "nbformat": 4,
 "nbformat_minor": 5
}
