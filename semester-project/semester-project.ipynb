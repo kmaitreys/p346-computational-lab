{
 "cells": [
  {
   "cell_type": "code",
   "execution_count": 1,
   "metadata": {},
   "outputs": [
    {
     "name": "stdout",
     "output_type": "stream",
     "text": [
      "\n",
      "           x                  y[ 0 ]                   y[ 1 ]  \n",
      "   0.0000e+00    9.0000e+03    0.0000e+00 \n",
      "   5.0000e-01    8.9988e+03   -4.8043e+00 \n",
      "   2.4229e+00    8.9763e+03   -1.6440e+01 \n",
      "   3.4146e+00    8.9589e+03   -1.8388e+01 \n",
      "   4.6318e+00    8.9359e+03   -1.9245e+01 \n",
      "   5.9739e+00    8.9098e+03   -1.9501e+01 \n",
      "   7.6199e+00    8.8777e+03   -1.9549e+01 \n",
      "   9.7063e+00    8.8369e+03   -1.9524e+01 \n",
      "   1.0000e+01    8.8312e+03   -1.9519e+01 \n"
     ]
    },
    {
     "data": {
      "text/plain": [
       "''"
      ]
     },
     "execution_count": 1,
     "metadata": {},
     "output_type": "execute_result"
    }
   ],
   "source": [
    "import numpy as np\n",
    "import math\n",
    "from run_kut5 import *\n",
    "from print_solution import *\n",
    "\n",
    "def F(x,y):\n",
    "    F = np.zeros(2)\n",
    "    F[0] = y[1]\n",
    "    F[1] = -9.80665 + 65.351e-3 * y[1]**2 * math.exp(-10.53e-5*y[0])\n",
    "    return F\n",
    "\n",
    "x = 0.0\n",
    "xStop = 10.0\n",
    "y = np.array([9000, 0.0])\n",
    "h = 0.5\n",
    "freq = 1\n",
    "X,Y = integrate(F,x,y,xStop,h,1.0e-2)\n",
    "printSoln(X,Y,freq)\n",
    "input(\"\\nPress return to exit\")"
   ]
  }
 ],
 "metadata": {
  "interpreter": {
   "hash": "b80c30720d0b029417cdc429f64bd8f9d8c8b1f03a5665ca6a1dfe6f546b1748"
  },
  "kernelspec": {
   "display_name": "Python 3.8.8 64-bit ('base': conda)",
   "language": "python",
   "name": "python3"
  },
  "language_info": {
   "codemirror_mode": {
    "name": "ipython",
    "version": 3
   },
   "file_extension": ".py",
   "mimetype": "text/x-python",
   "name": "python",
   "nbconvert_exporter": "python",
   "pygments_lexer": "ipython3",
   "version": "3.8.8"
  },
  "orig_nbformat": 4
 },
 "nbformat": 4,
 "nbformat_minor": 2
}
