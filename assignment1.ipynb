{
 "cells": [
  {
   "cell_type": "markdown",
   "id": "3f739b16",
   "metadata": {
    "heading_collapsed": true
   },
   "source": [
    "# Question 1"
   ]
  },
  {
   "cell_type": "markdown",
   "id": "5ef8558a",
   "metadata": {
    "hidden": true
   },
   "source": [
    "### Sum of first N natural numbers"
   ]
  },
  {
   "cell_type": "code",
   "execution_count": 4,
   "id": "5c89afbc",
   "metadata": {
    "hidden": true
   },
   "outputs": [
    {
     "name": "stdout",
     "output_type": "stream",
     "text": [
      "Enter any natural number: 3\n",
      "6 is the sum of first 3 natural numbers.\n"
     ]
    }
   ],
   "source": [
    "from elementaryLibrary import sumN\n",
    "\n",
    "N = float(input(\"Enter any natural number: \"))\n",
    "if N <= 0:\n",
    "    print(str(float(N)) + \" is not a natural number!\")\n",
    "elif N.is_integer():\n",
    "    sumN(int(N))\n",
    "else:\n",
    "    print(str(N) + \" is not a natural number!\")"
   ]
  },
  {
   "cell_type": "markdown",
   "id": "45dc0216",
   "metadata": {
    "heading_collapsed": true,
    "hidden": true
   },
   "source": [
    "### Sum of first N odd numbers"
   ]
  },
  {
   "cell_type": "code",
   "execution_count": 8,
   "id": "34a4ebab",
   "metadata": {
    "hidden": true
   },
   "outputs": [
    {
     "name": "stdout",
     "output_type": "stream",
     "text": [
      "Enter any natural number: 13\n",
      "169 is the sum of fist 13 odd numbers.\n"
     ]
    }
   ],
   "source": [
    "from elementaryLibrary import sumOdd\n",
    "\n",
    "N = float(input(\"Enter any natural number: \"))\n",
    "if N <= 0:\n",
    "    print(str(float(N)) + \" is not a natural number!\")\n",
    "elif N.is_integer():\n",
    "    sumOdd(int(N))\n",
    "else:\n",
    "    print(str(N) + \" is not a natural number!\")"
   ]
  },
  {
   "cell_type": "markdown",
   "id": "edf28a7a",
   "metadata": {
    "heading_collapsed": true
   },
   "source": [
    "# Question 2"
   ]
  },
  {
   "cell_type": "markdown",
   "id": "f6698feb",
   "metadata": {
    "heading_collapsed": true,
    "hidden": true
   },
   "source": [
    "### Arithmetic Progression"
   ]
  },
  {
   "cell_type": "code",
   "execution_count": 42,
   "id": "97531c45",
   "metadata": {
    "hidden": true
   },
   "outputs": [
    {
     "name": "stdout",
     "output_type": "stream",
     "text": [
      "Enter the first term of your arithmetic progression: 13\n",
      "Enter the number of terms you need the summation of: 15\n",
      "352.5 is the sum of first 15 terms of the arithmetic progression with first term 13.0 and common difference 1.5.\n"
     ]
    }
   ],
   "source": [
    "from elementaryLibrary import sumAP\n",
    "\n",
    "a = float(input(\"Enter the first term of your arithmetic progression: \"))\n",
    "n = int(input(\"Enter the number of terms you need the summation of: \"))\n",
    "\n",
    "sumAP(a, 1.5, n)"
   ]
  },
  {
   "cell_type": "markdown",
   "id": "ed65be30",
   "metadata": {
    "hidden": true
   },
   "source": [
    "### Geometric Progression"
   ]
  },
  {
   "cell_type": "code",
   "execution_count": 26,
   "id": "8ff3b6f5",
   "metadata": {
    "hidden": true
   },
   "outputs": [
    {
     "name": "stdout",
     "output_type": "stream",
     "text": [
      "Enter the first term of your geometric progression: 3\n",
      "Enter the number of terms you need the summation of: 13\n",
      "5.999267578125 is the sum of first 13 terms of the geometric progression with first term 3.0 and common ratio 0.5.\n"
     ]
    }
   ],
   "source": [
    "from elementaryLibrary import sumGP\n",
    "\n",
    "a = float(input(\"Enter the first term of your geometric progression: \"))\n",
    "n = int(input(\"Enter the number of terms you need the summation of: \"))\n",
    "\n",
    "sumGP(a, 0.5, n)"
   ]
  },
  {
   "cell_type": "markdown",
   "id": "83b77e62",
   "metadata": {
    "hidden": true
   },
   "source": [
    "### Harmonic Progression"
   ]
  },
  {
   "cell_type": "code",
   "execution_count": 30,
   "id": "1a8152a8",
   "metadata": {
    "hidden": true
   },
   "outputs": [
    {
     "name": "stdout",
     "output_type": "stream",
     "text": [
      "Enter the first term of your harmonic progression: 6\n",
      "Enter the number of terms you need the summation of: 3\n",
      "0.4111111111111111 is the sum of first 3 terms of the harmonic progression with first term 6.0 and common difference 1.5.\n"
     ]
    }
   ],
   "source": [
    "from elementaryLibrary import sumHP\n",
    "\n",
    "a = float(input(\"Enter the first term of your harmonic progression: \"))\n",
    "n = int(input(\"Enter the number of terms you need the summation of: \"))\n",
    "\n",
    "sumHP(a, 1.5, n)"
   ]
  },
  {
   "cell_type": "markdown",
   "id": "0904478e",
   "metadata": {
    "heading_collapsed": true
   },
   "source": [
    "# Question 3"
   ]
  },
  {
   "cell_type": "code",
   "execution_count": 43,
   "id": "21a27f6f",
   "metadata": {
    "hidden": true
   },
   "outputs": [
    {
     "name": "stdout",
     "output_type": "stream",
     "text": [
      "Enter any natural number: 5\n",
      "5! is equal to 120.\n"
     ]
    }
   ],
   "source": [
    "from elementaryLibrary import fact\n",
    "\n",
    "N = float(input(\"Enter any natural number: \"))\n",
    "if N < 0:\n",
    "    print(str(float(N)) + \" is not a natural number!\")\n",
    "elif N.is_integer():\n",
    "    fact(int(N))\n",
    "else:\n",
    "    print(str(N) + \" is not a natural number!\")"
   ]
  },
  {
   "cell_type": "markdown",
   "id": "d76467af",
   "metadata": {
    "heading_collapsed": true
   },
   "source": [
    "# Question 4"
   ]
  },
  {
   "cell_type": "code",
   "execution_count": null,
   "id": "51332bfe",
   "metadata": {
    "hidden": true
   },
   "outputs": [],
   "source": []
  }
 ],
 "metadata": {
  "kernelspec": {
   "display_name": "Python 3",
   "language": "python",
   "name": "python3"
  },
  "language_info": {
   "codemirror_mode": {
    "name": "ipython",
    "version": 3
   },
   "file_extension": ".py",
   "mimetype": "text/x-python",
   "name": "python",
   "nbconvert_exporter": "python",
   "pygments_lexer": "ipython3",
   "version": "3.8.8"
  }
 },
 "nbformat": 4,
 "nbformat_minor": 5
}
