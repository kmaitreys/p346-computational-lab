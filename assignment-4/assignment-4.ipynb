{
 "cells": [
  {
   "cell_type": "markdown",
   "source": [
    "# Question 1"
   ],
   "metadata": {}
  },
  {
   "cell_type": "code",
   "execution_count": 3,
   "source": [
    "from functionLibrary import fwdSub\r\n",
    "from functionLibrary import bwdSub\r\n",
    "from functionLibrary import dlittle\r\n",
    "from functionLibrary import crout\r\n",
    "from functionLibrary import solver\r\n",
    "\r\n",
    "matrixA = open(\"q1-A.txt\", \"r+\")\r\n",
    "A = []\r\n",
    "for row in matrixA:\r\n",
    "    e1 = row.split()\r\n",
    "    fe1 = []\r\n",
    "    for i in range(len(e1)):\r\n",
    "        fe1.append(float(e1[i]))\r\n",
    "    A.append(fe1)\r\n",
    "\r\n",
    "\r\n",
    "matrixb = open(\"q1-b.txt\", \"r+\")\r\n",
    "b = []\r\n",
    "for row in matrixb:\r\n",
    "    e1 = row.split()\r\n",
    "    for i in range(len(e1)):\r\n",
    "        b.append(float(e1[i]))\r\n",
    "\r\n",
    "\r\n",
    "print(\"The solution using Doolittle's algorithm:\" + \"\\n\")\r\n",
    "print( \"x = \" + str(solver(A,b, dlittle)) + \"\\n\" )\r\n",
    "\r\n",
    "\r\n",
    "print(\"\\n\" + \"The solution using Crout's algorithm:\" + \"\\n\")\r\n",
    "print( \"x = \" + str(solver(A,b, crout)) + \"\\n\")\r\n",
    "\r\n"
   ],
   "outputs": [
    {
     "output_type": "stream",
     "name": "stdout",
     "text": [
      "The solution using Doolittle's algorithm:\n",
      "\n",
      "L = [[1, 0, 0, 0], [0.0, 1, 0, 0], [1.0, 2.0, 1, 0], [2.0, 1.0, 1.5, 1]]\n",
      "\n",
      "U = [[1.0, 0.0, 1.0, 2.0], [0, 1.0, -2.0, 0.0], [0, 0, 2.0, -2.0], [0, 0, 0, -3.0]]\n",
      "\n",
      "x = [1.0, -1.0, 1.0, 2.0]\n",
      "\n",
      "\n",
      "The solution using Crout's algorithm:\n",
      "\n",
      "L = [[1.0, 0, 0, 0], [0.0, 1.0, 0, 0], [1.0, 2.0, 2.0, 0], [2.0, 1.0, 3.0, -3.0]]\n",
      "\n",
      "U = [[1, 0.0, 1.0, 2.0], [0, 1, -2.0, 0.0], [0, 0, 1, -1.0], [0, 0, 0, 1]]\n",
      "\n",
      "x = [1.0, -1.0, 1.0, 2.0]\n",
      "\n"
     ]
    }
   ],
   "metadata": {}
  },
  {
   "cell_type": "markdown",
   "source": [
    "# Question 2"
   ],
   "metadata": {}
  },
  {
   "cell_type": "code",
   "execution_count": 5,
   "source": [
    "from functionLibrary import inverseLU\r\n",
    "from functionLibrary import swapRows\r\n",
    "from functionLibrary import LUDecomp\r\n",
    "from functionLibrary import fwdBwdSub\r\n",
    "from functionLibrary import PartialPivot\r\n",
    "from functionLibrary import multiplysquare\r\n",
    "\r\n",
    "matrixA = open(\"q2.txt\", \"r+\")\r\n",
    "A = []\r\n",
    "for row in matrixA:\r\n",
    "    e1 = row.split()\r\n",
    "    fe1 = []\r\n",
    "    for i in range(len(e1)):\r\n",
    "        fe1.append(float(e1[i]))\r\n",
    "    A.append(fe1)\r\n",
    "\r\n",
    "I = [[0 for i in range(len(A))] for j in range(len(A))]\r\n",
    "for k in range(len(A)):\r\n",
    "    I[k][k] = 1.0\r\n",
    "\r\n",
    "\r\n",
    "X = inverseLU(A,I)\r\n",
    "\r\n",
    "verification = multiplysquare(X,A)\r\n"
   ],
   "outputs": [
    {
     "output_type": "stream",
     "name": "stdout",
     "text": [
      "Lower Triangular\n",
      "[1, 0, 0, 0]\n",
      "[0.0, 1, 0, 0]\n",
      "[0.0, 0.5, 1, 0]\n",
      "[0.0, 0.0, -0.25, 1]\n",
      "Upper Triangular\n",
      "[3.0, 7.0, 1.0, 0.0]\n",
      "[0, 2.0, 8.0, 6.0]\n",
      "[0, 0, -4.0, -2.0]\n",
      "[0, 0, 0, 1.5]\n",
      "The inverse of the given matrix is \n",
      "[0.3333333333333333, -0.25000000000000006, -1.8333333333333333, 1.6666666666666667]\n",
      "[0.0, 0.08333333333333337, 0.8333333333333333, -0.6666666666666667]\n",
      "[-0.0, 0.16666666666666666, -0.3333333333333333, -0.3333333333333333]\n",
      "[0.0, -0.08333333333333333, 0.16666666666666666, 0.6666666666666666]\n",
      "The product of \n",
      "[0.3333333333333333, -0.25000000000000006, -1.8333333333333333, 1.6666666666666667]\n",
      "[0.0, 0.08333333333333337, 0.8333333333333333, -0.6666666666666667]\n",
      "[-0.0, 0.16666666666666666, -0.3333333333333333, -0.3333333333333333]\n",
      "[0.0, -0.08333333333333333, 0.16666666666666666, 0.6666666666666666]\n",
      "and \n",
      "[3.0, 7.0, 1.0, 0.0]\n",
      "[0.0, 2.0, 8.0, 6.0]\n",
      "[0.0, 1.0, 0.0, 1.0]\n",
      "[0.0, 0.0, 1.0, 2.0]\n",
      "is\n",
      "[1.0, 0, 0, 0]\n",
      "[0, 1.0, 0, 0]\n",
      "[0, 0, 1.0, 0]\n",
      "[0, 0, 0, 1.0]\n"
     ]
    }
   ],
   "metadata": {}
  },
  {
   "cell_type": "markdown",
   "source": [
    "# Question 3"
   ],
   "metadata": {}
  },
  {
   "cell_type": "code",
   "execution_count": 1,
   "source": [
    "from functionLibrary import cholesky\r\n",
    "from functionLibrary import choleskySolver\r\n",
    "from functionLibrary import transpose\r\n",
    "\r\n",
    "\r\n",
    "matrixA = open(\"q3-A.txt\", \"r+\")\r\n",
    "A = []\r\n",
    "for row in matrixA:\r\n",
    "    e1 = row.split()\r\n",
    "    fe1 = []\r\n",
    "    for i in range(len(e1)):\r\n",
    "        fe1.append(float(e1[i]))\r\n",
    "    A.append(fe1)\r\n",
    "\r\n",
    "\r\n",
    "matrixb = open(\"q3-b.txt\", \"r+\")\r\n",
    "b = []\r\n",
    "for row in matrixb:\r\n",
    "    e1 = row.split()\r\n",
    "    for i in range(len(e1)):\r\n",
    "        b.append(float(e1[i])) \r\n",
    "\r\n",
    "l = cholesky(A)\r\n",
    "\r\n",
    "x = choleskySolver(l, transpose(l), b)\r\n",
    "print(\"Using Cholesky algorithm, the solution matrix is: \")\r\n",
    "print(x)\r\n",
    "\r\n"
   ],
   "outputs": [
    {
     "output_type": "stream",
     "name": "stdout",
     "text": [
      "Using Cholesky algorithm, the solution matrix is: \n",
      "[0.09999999999999996, 0.2, 0.3, 0.4000000000000001]\n"
     ]
    }
   ],
   "metadata": {}
  }
 ],
 "metadata": {
  "orig_nbformat": 4,
  "language_info": {
   "name": "python",
   "version": "3.8.8",
   "mimetype": "text/x-python",
   "codemirror_mode": {
    "name": "ipython",
    "version": 3
   },
   "pygments_lexer": "ipython3",
   "nbconvert_exporter": "python",
   "file_extension": ".py"
  },
  "kernelspec": {
   "name": "python3",
   "display_name": "Python 3.8.8 64-bit ('base': conda)"
  },
  "interpreter": {
   "hash": "b80c30720d0b029417cdc429f64bd8f9d8c8b1f03a5665ca6a1dfe6f546b1748"
  }
 },
 "nbformat": 4,
 "nbformat_minor": 2
}