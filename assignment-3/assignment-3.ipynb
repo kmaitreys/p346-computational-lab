{
 "cells": [
  {
   "cell_type": "markdown",
   "id": "1e45a819",
   "metadata": {},
   "source": [
    "# Question 1"
   ]
  },
  {
   "cell_type": "code",
   "execution_count": 21,
   "id": "329f89fe",
   "metadata": {},
   "outputs": [
    {
     "name": "stdout",
     "output_type": "stream",
     "text": [
      "The solution of the given system of equations is:\n",
      "[2.000000000000001, -1.3322676295501878e-15, 5.999999999999999, 5.0]\n"
     ]
    }
   ],
   "source": [
    "from functionLibrary import gaussj\n",
    "\n",
    "matrix = open(\"q1-matrix.txt\", \"r+\")\n",
    "\n",
    "M = []\n",
    "N = []\n",
    "\n",
    "for row in matrix:\n",
    "    e1 = row.split()\n",
    "    fe1 = []\n",
    "    for i in range(len(e1)-1):\n",
    "        fe1.append(float(e1[i]))\n",
    "    M.append(fe1)\n",
    "    e2 = row.split()\n",
    "    N.append(float(e2[len(e1)-1]))\n",
    "    \n",
    "print(\"The solution of the given system of equations is:\")\n",
    "\n",
    "gaussj(M,N)"
   ]
  },
  {
   "cell_type": "markdown",
   "id": "084f36c0",
   "metadata": {},
   "source": [
    "# Question 2"
   ]
  },
  {
   "cell_type": "code",
   "execution_count": 22,
   "id": "b3df6101",
   "metadata": {},
   "outputs": [
    {
     "name": "stdout",
     "output_type": "stream",
     "text": [
      "The solution of the given system of equations is:\n",
      "[1.0, -2.0, -1.0]\n"
     ]
    }
   ],
   "source": [
    "from functionLibrary import gaussj\n",
    "\n",
    "matrix = open(\"q2-matrix.txt\", \"r+\")\n",
    "\n",
    "M = []\n",
    "N = []\n",
    "\n",
    "for row in matrix:\n",
    "    e1 = row.split()\n",
    "    fe1 = []\n",
    "    for i in range(len(e1)-1):\n",
    "        fe1.append(float(e1[i]))\n",
    "    M.append(fe1)\n",
    "    e2 = row.split()\n",
    "    N.append(float(e2[len(e1)-1]))\n",
    "  \n",
    "print(\"The solution of the given system of equations is:\")\n",
    "\n",
    "gaussj(M,N)"
   ]
  },
  {
   "cell_type": "markdown",
   "id": "632d754a",
   "metadata": {},
   "source": [
    "# Question 3"
   ]
  },
  {
   "cell_type": "code",
   "execution_count": 24,
   "id": "6c956bf2",
   "metadata": {},
   "outputs": [
    {
     "name": "stdout",
     "output_type": "stream",
     "text": [
      "The inverse of the given matrix is: \n",
      "-0.33 0.33 0.33 \n",
      "-0.17 0.17 0.67 \n",
      "1.33 -0.33 -1.33 \n",
      "Multiplying the two matrices: \n",
      "0.99 0.010000000000000009 0.010000000000000009 \n",
      "0.010000000000000009 0.99 -0.010000000000000009 \n",
      "-0.010000000000000009 0.010000000000000009 1.01 \n",
      "Clearly, above matrix is an identity matrix.\n"
     ]
    }
   ],
   "source": [
    "from functionLibrary import inverse\n",
    "from functionLibrary import matrixProduct\n",
    "\n",
    "matrix = open(\"q3-matrix.txt\", \"r+\")\n",
    "\n",
    "M = []\n",
    "for row in matrix:\n",
    "    e1 = row.split()\n",
    "    fe1 = []\n",
    "    for i in range(len(e1)):\n",
    "        fe1.append(float(e1[i]))\n",
    "    M.append(fe1)\n",
    "\n",
    "print(\"The inverse of the given matrix is: \")    \n",
    "\n",
    "inverse(M)\n",
    "\n",
    "\n",
    "#Verification\n",
    "#the construction of R and S was asked to limit the matrix entries to two decimal spaces.\n",
    "#first constructing the matrix with string entries and then converting that into floats is the only viable option in Python\n",
    "#re-constructing the matrix with values upto two decimal places as strings\n",
    "n = len(M)\n",
    "R = []\n",
    "for i in range(len(M)):\n",
    "    r = []\n",
    "    for j in range(n, len(M[0])):\n",
    "        r.append(\"{:.2f}\".format(M[i][j]))\n",
    "    R.append(r)\n",
    "    \n",
    "#defining matrix to have numbers rounded off to 2 decimal places as floats\n",
    "S = []\n",
    "for i in range(len(R)):\n",
    "    s = []\n",
    "    for j in range(len(R[0])):\n",
    "        s.append(float(R[i][j]))\n",
    "    S.append(s)\n",
    "\n",
    "\n",
    "matrix = open(\"q3-matrix.txt\", \"r+\")\n",
    "\n",
    "Q = []\n",
    "for row in matrix:\n",
    "    e1 = row.split()\n",
    "    fe1 = []\n",
    "    for i in range(len(e1)):\n",
    "        fe1.append(float(e1[i]))\n",
    "    Q.append(fe1)\n",
    "    \n",
    "\n",
    "\n",
    "matrixProduct(Q, S)  \n",
    "\n",
    "print(\"Clearly, above matrix is an identity matrix.\")"
   ]
  },
  {
   "cell_type": "markdown",
   "id": "95e206b2",
   "metadata": {},
   "source": [
    "# Question 4"
   ]
  },
  {
   "cell_type": "code",
   "execution_count": 25,
   "id": "7fd65e31",
   "metadata": {},
   "outputs": [
    {
     "name": "stdout",
     "output_type": "stream",
     "text": [
      "The determinant of the given matrix is: \n",
      "65.0\n"
     ]
    }
   ],
   "source": [
    "from functionLibrary import determinant\n",
    "\n",
    "matrix = open(\"q4-matrix.txt\", \"r+\")\n",
    "\n",
    "M = []\n",
    "for row in matrix:\n",
    "    e1 = row.split()\n",
    "    fe1 = []\n",
    "    for i in range(len(e1)):\n",
    "        fe1.append(float(e1[i]))\n",
    "    M.append(fe1)\n",
    "\n",
    "print(\"The determinant of the given matrix is: \")   \n",
    "\n",
    "determinant(M)"
   ]
  }
 ],
 "metadata": {
  "kernelspec": {
   "display_name": "Python 3",
   "language": "python",
   "name": "python3"
  },
  "language_info": {
   "codemirror_mode": {
    "name": "ipython",
    "version": 3
   },
   "file_extension": ".py",
   "mimetype": "text/x-python",
   "name": "python",
   "nbconvert_exporter": "python",
   "pygments_lexer": "ipython3",
   "version": "3.8.8"
  }
 },
 "nbformat": 4,
 "nbformat_minor": 5
}
